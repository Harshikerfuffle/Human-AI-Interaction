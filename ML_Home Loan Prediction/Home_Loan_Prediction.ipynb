{
 "cells": [
  {
   "cell_type": "markdown",
   "metadata": {},
   "source": [
    "# Home Loan Prediction\n",
    "This dataset `full_home_loans.csv` is about home loan applications in Washington state, USA, where each row of the dataset is an individual loan application. Your goal in this assignment is to build a machine learning model that can accurately predict whether a given loan application was accepted or rejected. \n",
    "\n",
    "\n",
    "## Part 1: Data Exploration\n",
    "The first few exercises will get you used to looking at the data using `pandas`. Pandas is a widely used library in python for manipulating data. Why? Datasets can consume a _lot_ of space in your computer's memory and traditional python data structures like lists or dictionaries will become painfully slow as we add thousands of rows of data. We use a specialized dataset library `pandas` which has a specialized data structure called a `dataframe` designed to be ultra fast & efficient. Documentation is here: https://pandas.pydata.org/pandas-docs/stable/"
   ]
  },
  {
   "cell_type": "code",
   "execution_count": 1,
   "metadata": {},
   "outputs": [],
   "source": [
    "import pandas as pd # import pandas library\n",
    "df = pd.read_csv('data/home_loans.csv', low_memory=False) # read the csv file into a pandas dataframe object"
   ]
  },
  {
   "cell_type": "markdown",
   "metadata": {},
   "source": [
    "To understand what kind of data was collected, `pandas` has some handy commands:\n",
    "\n",
    "- `df.head()` will show us the first 5 rows of our dataset. You can also specify the first N rows, like `df.head(18)` will show us the first 18 rows.\n",
    "- `df.sample(10)` will show us 10 randomly sampled rows of our dataset\n",
    "- `df.shape` will tell us how many rows and how many columns are in the dataset\n",
    "- `df.columns` will list the names of all columns in the dataset\n",
    "- `df.describe()` will give you summary statistics about all numerical columns in the dataset\n",
    "\n",
    "### Question 1.A:  How many rows are in this dataset? How many columns?\n",
    "#### <span style=\"color:#373737\">Answer 1.A: By applying df.shape command, it is found that the dataset has **369281** rows and **27** columns.</span>"
   ]
  },
  {
   "cell_type": "code",
   "execution_count": 2,
   "metadata": {},
   "outputs": [
    {
     "data": {
      "text/plain": [
       "(369281, 27)"
      ]
     },
     "execution_count": 2,
     "metadata": {},
     "output_type": "execute_result"
    }
   ],
   "source": [
    "df.shape"
   ]
  },
  {
   "cell_type": "code",
   "execution_count": 3,
   "metadata": {},
   "outputs": [
    {
     "data": {
      "text/html": [
       "<div>\n",
       "<style scoped>\n",
       "    .dataframe tbody tr th:only-of-type {\n",
       "        vertical-align: middle;\n",
       "    }\n",
       "\n",
       "    .dataframe tbody tr th {\n",
       "        vertical-align: top;\n",
       "    }\n",
       "\n",
       "    .dataframe thead th {\n",
       "        text-align: right;\n",
       "    }\n",
       "</style>\n",
       "<table border=\"1\" class=\"dataframe\">\n",
       "  <thead>\n",
       "    <tr style=\"text-align: right;\">\n",
       "      <th></th>\n",
       "      <th>town_name</th>\n",
       "      <th>county_name</th>\n",
       "      <th>loan_amount_000s</th>\n",
       "      <th>applicant_income_000s</th>\n",
       "      <th>property_type_name</th>\n",
       "      <th>occupied_by_owner</th>\n",
       "      <th>loan_type_name</th>\n",
       "      <th>is_hoepa_loan</th>\n",
       "      <th>loan_purpose_name</th>\n",
       "      <th>loan_approved</th>\n",
       "      <th>...</th>\n",
       "      <th>co_applicant_race_name_2</th>\n",
       "      <th>co_applicant_race_name_1</th>\n",
       "      <th>co_applicant_ethnicity_name</th>\n",
       "      <th>applicant_sex_name</th>\n",
       "      <th>applicant_race_name_5</th>\n",
       "      <th>applicant_race_name_4</th>\n",
       "      <th>applicant_race_name_3</th>\n",
       "      <th>applicant_race_name_2</th>\n",
       "      <th>applicant_race_name_1</th>\n",
       "      <th>applicant_ethnicity_name</th>\n",
       "    </tr>\n",
       "  </thead>\n",
       "  <tbody>\n",
       "    <tr>\n",
       "      <th>0</th>\n",
       "      <td>Portland, Vancouver, Hillsboro - OR, WA</td>\n",
       "      <td>Clark County</td>\n",
       "      <td>227</td>\n",
       "      <td>116.0</td>\n",
       "      <td>One-to-four family dwelling (other than manufa...</td>\n",
       "      <td>1</td>\n",
       "      <td>Conventional</td>\n",
       "      <td>0</td>\n",
       "      <td>Refinancing</td>\n",
       "      <td>1</td>\n",
       "      <td>...</td>\n",
       "      <td>NaN</td>\n",
       "      <td>Information not provided by applicant in mail,...</td>\n",
       "      <td>Not Hispanic or Latino</td>\n",
       "      <td>Female</td>\n",
       "      <td>NaN</td>\n",
       "      <td>NaN</td>\n",
       "      <td>NaN</td>\n",
       "      <td>NaN</td>\n",
       "      <td>Information not provided by applicant in mail,...</td>\n",
       "      <td>Not Hispanic or Latino</td>\n",
       "    </tr>\n",
       "    <tr>\n",
       "      <th>1</th>\n",
       "      <td>Walla Walla - WA</td>\n",
       "      <td>Walla Walla County</td>\n",
       "      <td>240</td>\n",
       "      <td>42.0</td>\n",
       "      <td>One-to-four family dwelling (other than manufa...</td>\n",
       "      <td>1</td>\n",
       "      <td>FHA-insured</td>\n",
       "      <td>0</td>\n",
       "      <td>Home purchase</td>\n",
       "      <td>1</td>\n",
       "      <td>...</td>\n",
       "      <td>NaN</td>\n",
       "      <td>No co-applicant</td>\n",
       "      <td>No co-applicant</td>\n",
       "      <td>Male</td>\n",
       "      <td>NaN</td>\n",
       "      <td>NaN</td>\n",
       "      <td>NaN</td>\n",
       "      <td>NaN</td>\n",
       "      <td>White</td>\n",
       "      <td>Hispanic or Latino</td>\n",
       "    </tr>\n",
       "    <tr>\n",
       "      <th>2</th>\n",
       "      <td>Portland, Vancouver, Hillsboro - OR, WA</td>\n",
       "      <td>Clark County</td>\n",
       "      <td>241</td>\n",
       "      <td>117.0</td>\n",
       "      <td>One-to-four family dwelling (other than manufa...</td>\n",
       "      <td>1</td>\n",
       "      <td>Conventional</td>\n",
       "      <td>0</td>\n",
       "      <td>Refinancing</td>\n",
       "      <td>1</td>\n",
       "      <td>...</td>\n",
       "      <td>NaN</td>\n",
       "      <td>White</td>\n",
       "      <td>Not Hispanic or Latino</td>\n",
       "      <td>Male</td>\n",
       "      <td>NaN</td>\n",
       "      <td>NaN</td>\n",
       "      <td>NaN</td>\n",
       "      <td>NaN</td>\n",
       "      <td>White</td>\n",
       "      <td>Not Hispanic or Latino</td>\n",
       "    </tr>\n",
       "    <tr>\n",
       "      <th>3</th>\n",
       "      <td>Portland, Vancouver, Hillsboro - OR, WA</td>\n",
       "      <td>Clark County</td>\n",
       "      <td>351</td>\n",
       "      <td>315.0</td>\n",
       "      <td>One-to-four family dwelling (other than manufa...</td>\n",
       "      <td>1</td>\n",
       "      <td>Conventional</td>\n",
       "      <td>0</td>\n",
       "      <td>Refinancing</td>\n",
       "      <td>1</td>\n",
       "      <td>...</td>\n",
       "      <td>NaN</td>\n",
       "      <td>Information not provided by applicant in mail,...</td>\n",
       "      <td>Information not provided by applicant in mail,...</td>\n",
       "      <td>Male</td>\n",
       "      <td>NaN</td>\n",
       "      <td>NaN</td>\n",
       "      <td>NaN</td>\n",
       "      <td>NaN</td>\n",
       "      <td>Information not provided by applicant in mail,...</td>\n",
       "      <td>Information not provided by applicant in mail,...</td>\n",
       "    </tr>\n",
       "    <tr>\n",
       "      <th>4</th>\n",
       "      <td>Bremerton, Silverdale - WA</td>\n",
       "      <td>Kitsap County</td>\n",
       "      <td>417</td>\n",
       "      <td>114.0</td>\n",
       "      <td>One-to-four family dwelling (other than manufa...</td>\n",
       "      <td>1</td>\n",
       "      <td>Conventional</td>\n",
       "      <td>0</td>\n",
       "      <td>Home improvement</td>\n",
       "      <td>1</td>\n",
       "      <td>...</td>\n",
       "      <td>NaN</td>\n",
       "      <td>White</td>\n",
       "      <td>Not Hispanic or Latino</td>\n",
       "      <td>Female</td>\n",
       "      <td>NaN</td>\n",
       "      <td>NaN</td>\n",
       "      <td>NaN</td>\n",
       "      <td>NaN</td>\n",
       "      <td>White</td>\n",
       "      <td>Not Hispanic or Latino</td>\n",
       "    </tr>\n",
       "  </tbody>\n",
       "</table>\n",
       "<p>5 rows × 27 columns</p>\n",
       "</div>"
      ],
      "text/plain": [
       "                                 town_name         county_name  \\\n",
       "0  Portland, Vancouver, Hillsboro - OR, WA        Clark County   \n",
       "1                         Walla Walla - WA  Walla Walla County   \n",
       "2  Portland, Vancouver, Hillsboro - OR, WA        Clark County   \n",
       "3  Portland, Vancouver, Hillsboro - OR, WA        Clark County   \n",
       "4               Bremerton, Silverdale - WA       Kitsap County   \n",
       "\n",
       "   loan_amount_000s  applicant_income_000s  \\\n",
       "0               227                  116.0   \n",
       "1               240                   42.0   \n",
       "2               241                  117.0   \n",
       "3               351                  315.0   \n",
       "4               417                  114.0   \n",
       "\n",
       "                                  property_type_name  occupied_by_owner  \\\n",
       "0  One-to-four family dwelling (other than manufa...                  1   \n",
       "1  One-to-four family dwelling (other than manufa...                  1   \n",
       "2  One-to-four family dwelling (other than manufa...                  1   \n",
       "3  One-to-four family dwelling (other than manufa...                  1   \n",
       "4  One-to-four family dwelling (other than manufa...                  1   \n",
       "\n",
       "  loan_type_name  is_hoepa_loan loan_purpose_name  loan_approved  ...  \\\n",
       "0   Conventional              0       Refinancing              1  ...   \n",
       "1    FHA-insured              0     Home purchase              1  ...   \n",
       "2   Conventional              0       Refinancing              1  ...   \n",
       "3   Conventional              0       Refinancing              1  ...   \n",
       "4   Conventional              0  Home improvement              1  ...   \n",
       "\n",
       "  co_applicant_race_name_2                           co_applicant_race_name_1  \\\n",
       "0                      NaN  Information not provided by applicant in mail,...   \n",
       "1                      NaN                                    No co-applicant   \n",
       "2                      NaN                                              White   \n",
       "3                      NaN  Information not provided by applicant in mail,...   \n",
       "4                      NaN                                              White   \n",
       "\n",
       "                         co_applicant_ethnicity_name applicant_sex_name  \\\n",
       "0                             Not Hispanic or Latino             Female   \n",
       "1                                    No co-applicant               Male   \n",
       "2                             Not Hispanic or Latino               Male   \n",
       "3  Information not provided by applicant in mail,...               Male   \n",
       "4                             Not Hispanic or Latino             Female   \n",
       "\n",
       "  applicant_race_name_5 applicant_race_name_4 applicant_race_name_3  \\\n",
       "0                   NaN                   NaN                   NaN   \n",
       "1                   NaN                   NaN                   NaN   \n",
       "2                   NaN                   NaN                   NaN   \n",
       "3                   NaN                   NaN                   NaN   \n",
       "4                   NaN                   NaN                   NaN   \n",
       "\n",
       "  applicant_race_name_2                              applicant_race_name_1  \\\n",
       "0                   NaN  Information not provided by applicant in mail,...   \n",
       "1                   NaN                                              White   \n",
       "2                   NaN                                              White   \n",
       "3                   NaN  Information not provided by applicant in mail,...   \n",
       "4                   NaN                                              White   \n",
       "\n",
       "                            applicant_ethnicity_name  \n",
       "0                             Not Hispanic or Latino  \n",
       "1                                 Hispanic or Latino  \n",
       "2                             Not Hispanic or Latino  \n",
       "3  Information not provided by applicant in mail,...  \n",
       "4                             Not Hispanic or Latino  \n",
       "\n",
       "[5 rows x 27 columns]"
      ]
     },
     "execution_count": 3,
     "metadata": {},
     "output_type": "execute_result"
    }
   ],
   "source": [
    "df.head()"
   ]
  },
  {
   "cell_type": "markdown",
   "metadata": {},
   "source": [
    "### Question 1.B: One of the columns in the dataset is the outcome value for each application, the value we will try to predict. Which column is that?\n",
    "#### <span style=\"color:#373737\">Answer 1.B: The column **'loan approved'** is the outcome value for each application. df.columns command has been applied to view all the columns in the dataset.</span>"
   ]
  },
  {
   "cell_type": "code",
   "execution_count": 4,
   "metadata": {},
   "outputs": [
    {
     "data": {
      "text/plain": [
       "Index(['town_name', 'county_name', 'loan_amount_000s', 'applicant_income_000s',\n",
       "       'property_type_name', 'occupied_by_owner', 'loan_type_name',\n",
       "       'is_hoepa_loan', 'loan_purpose_name', 'loan_approved',\n",
       "       'denial_reason_name_3', 'denial_reason_name_2', 'denial_reason_name_1',\n",
       "       'co_applicant_sex_name', 'co_applicant_race_name_5',\n",
       "       'co_applicant_race_name_4', 'co_applicant_race_name_3',\n",
       "       'co_applicant_race_name_2', 'co_applicant_race_name_1',\n",
       "       'co_applicant_ethnicity_name', 'applicant_sex_name',\n",
       "       'applicant_race_name_5', 'applicant_race_name_4',\n",
       "       'applicant_race_name_3', 'applicant_race_name_2',\n",
       "       'applicant_race_name_1', 'applicant_ethnicity_name'],\n",
       "      dtype='object')"
      ]
     },
     "execution_count": 4,
     "metadata": {},
     "output_type": "execute_result"
    }
   ],
   "source": [
    "df.columns"
   ]
  },
  {
   "cell_type": "markdown",
   "metadata": {},
   "source": [
    "### Question 1.C: What reasons were given in this dataset for denying a loan application?\n",
    "Hint: There are 3 columns in the dataset that list why a loan was denied. Try looking up the pandas command to list the unique values in a column.\n",
    "\n",
    "#### <span style=\"color:#373737\">Answer 1.C: From the unique listed values in the 3 columns, the reasons for denial include: 'Other', 'Credit application incomplete', 'Collateral', 'Debt-to-income ratio', 'Credit history', 'Unverifiable information', 'Employment history', 'Insufficient cash (downpayment, closing costs)' and 'Mortgage insurance denied'. The command df.'column_name'.unique() has been used. </span>"
   ]
  },
  {
   "cell_type": "code",
   "execution_count": 5,
   "metadata": {},
   "outputs": [
    {
     "data": {
      "text/plain": [
       "array([nan, 'Other', 'Credit application incomplete', 'Collateral',\n",
       "       'Debt-to-income ratio', 'Credit history',\n",
       "       'Unverifiable information', 'Employment history',\n",
       "       'Insufficient cash (downpayment, closing costs)',\n",
       "       'Mortgage insurance denied'], dtype=object)"
      ]
     },
     "execution_count": 5,
     "metadata": {},
     "output_type": "execute_result"
    }
   ],
   "source": [
    "df.denial_reason_name_1.unique()"
   ]
  },
  {
   "cell_type": "code",
   "execution_count": 6,
   "metadata": {},
   "outputs": [
    {
     "data": {
      "text/plain": [
       "array([nan, 'Collateral', 'Other',\n",
       "       'Insufficient cash (downpayment, closing costs)',\n",
       "       'Debt-to-income ratio', 'Employment history',\n",
       "       'Credit application incomplete', 'Credit history',\n",
       "       'Unverifiable information', 'Mortgage insurance denied'],\n",
       "      dtype=object)"
      ]
     },
     "execution_count": 6,
     "metadata": {},
     "output_type": "execute_result"
    }
   ],
   "source": [
    "df.denial_reason_name_2.unique()"
   ]
  },
  {
   "cell_type": "code",
   "execution_count": 7,
   "metadata": {},
   "outputs": [
    {
     "data": {
      "text/plain": [
       "array([nan, 'Other', 'Credit history',\n",
       "       'Insufficient cash (downpayment, closing costs)',\n",
       "       'Employment history', 'Debt-to-income ratio',\n",
       "       'Unverifiable information', 'Collateral',\n",
       "       'Credit application incomplete', 'Mortgage insurance denied'],\n",
       "      dtype=object)"
      ]
     },
     "execution_count": 7,
     "metadata": {},
     "output_type": "execute_result"
    }
   ],
   "source": [
    "df.denial_reason_name_3.unique()"
   ]
  },
  {
   "cell_type": "markdown",
   "metadata": {},
   "source": [
    "### Question 1.D: Given the denial reasons and the columns in this dataset, think about what information you _don't_ have about each application. Rank your top 3 _missing_ pieces of information about each application that could help you better predict the application's loan outcome.\n",
    "_Double click to write your answer question here. Show your work in code below if applicable._\n",
    "#### <span style=\"color:#373737\"> 1. Any past foreclosures</span>\n",
    "#### <span style=\"color:#373737\"> 2. Applicant's assets other than income like retirement fund, savings etc.</span>\n",
    "#### <span style=\"color:#373737\"> 3. Employment history</span>\n",
    "#### <span style=\"color:#373737\"> 4. Income Tax Return filing history</span>"
   ]
  },
  {
   "cell_type": "code",
   "execution_count": 8,
   "metadata": {},
   "outputs": [
    {
     "data": {
      "text/html": [
       "<div>\n",
       "<style scoped>\n",
       "    .dataframe tbody tr th:only-of-type {\n",
       "        vertical-align: middle;\n",
       "    }\n",
       "\n",
       "    .dataframe tbody tr th {\n",
       "        vertical-align: top;\n",
       "    }\n",
       "\n",
       "    .dataframe thead th {\n",
       "        text-align: right;\n",
       "    }\n",
       "</style>\n",
       "<table border=\"1\" class=\"dataframe\">\n",
       "  <thead>\n",
       "    <tr style=\"text-align: right;\">\n",
       "      <th></th>\n",
       "      <th>loan_amount_000s</th>\n",
       "      <th>applicant_income_000s</th>\n",
       "      <th>occupied_by_owner</th>\n",
       "      <th>is_hoepa_loan</th>\n",
       "      <th>loan_approved</th>\n",
       "    </tr>\n",
       "  </thead>\n",
       "  <tbody>\n",
       "    <tr>\n",
       "      <th>count</th>\n",
       "      <td>369281.000000</td>\n",
       "      <td>320143.000000</td>\n",
       "      <td>369281.000000</td>\n",
       "      <td>369281.000000</td>\n",
       "      <td>369281.000000</td>\n",
       "    </tr>\n",
       "    <tr>\n",
       "      <th>mean</th>\n",
       "      <td>289.583453</td>\n",
       "      <td>114.013435</td>\n",
       "      <td>0.915503</td>\n",
       "      <td>0.000032</td>\n",
       "      <td>0.836493</td>\n",
       "    </tr>\n",
       "    <tr>\n",
       "      <th>std</th>\n",
       "      <td>478.234372</td>\n",
       "      <td>120.781098</td>\n",
       "      <td>0.278132</td>\n",
       "      <td>0.005700</td>\n",
       "      <td>0.369828</td>\n",
       "    </tr>\n",
       "    <tr>\n",
       "      <th>min</th>\n",
       "      <td>1.000000</td>\n",
       "      <td>1.000000</td>\n",
       "      <td>0.000000</td>\n",
       "      <td>0.000000</td>\n",
       "      <td>0.000000</td>\n",
       "    </tr>\n",
       "    <tr>\n",
       "      <th>25%</th>\n",
       "      <td>178.000000</td>\n",
       "      <td>61.000000</td>\n",
       "      <td>1.000000</td>\n",
       "      <td>0.000000</td>\n",
       "      <td>1.000000</td>\n",
       "    </tr>\n",
       "    <tr>\n",
       "      <th>50%</th>\n",
       "      <td>252.000000</td>\n",
       "      <td>90.000000</td>\n",
       "      <td>1.000000</td>\n",
       "      <td>0.000000</td>\n",
       "      <td>1.000000</td>\n",
       "    </tr>\n",
       "    <tr>\n",
       "      <th>75%</th>\n",
       "      <td>354.000000</td>\n",
       "      <td>135.000000</td>\n",
       "      <td>1.000000</td>\n",
       "      <td>0.000000</td>\n",
       "      <td>1.000000</td>\n",
       "    </tr>\n",
       "    <tr>\n",
       "      <th>max</th>\n",
       "      <td>99999.000000</td>\n",
       "      <td>9999.000000</td>\n",
       "      <td>1.000000</td>\n",
       "      <td>1.000000</td>\n",
       "      <td>1.000000</td>\n",
       "    </tr>\n",
       "  </tbody>\n",
       "</table>\n",
       "</div>"
      ],
      "text/plain": [
       "       loan_amount_000s  applicant_income_000s  occupied_by_owner  \\\n",
       "count     369281.000000          320143.000000      369281.000000   \n",
       "mean         289.583453             114.013435           0.915503   \n",
       "std          478.234372             120.781098           0.278132   \n",
       "min            1.000000               1.000000           0.000000   \n",
       "25%          178.000000              61.000000           1.000000   \n",
       "50%          252.000000              90.000000           1.000000   \n",
       "75%          354.000000             135.000000           1.000000   \n",
       "max        99999.000000            9999.000000           1.000000   \n",
       "\n",
       "       is_hoepa_loan  loan_approved  \n",
       "count  369281.000000  369281.000000  \n",
       "mean        0.000032       0.836493  \n",
       "std         0.005700       0.369828  \n",
       "min         0.000000       0.000000  \n",
       "25%         0.000000       1.000000  \n",
       "50%         0.000000       1.000000  \n",
       "75%         0.000000       1.000000  \n",
       "max         1.000000       1.000000  "
      ]
     },
     "execution_count": 8,
     "metadata": {},
     "output_type": "execute_result"
    }
   ],
   "source": [
    "df.describe()"
   ]
  },
  {
   "cell_type": "markdown",
   "metadata": {},
   "source": [
    "## Part 2: Preparing Data to Input to a Model\n",
    "Here we'll start using `scikit-learn` which provides simple library calls for most things we'd like to do in a simple machine learning pipeline. If you haven't used `scikit-learn` before this tutorial may be useful to give you a sense of what the library can do: https://scikit-learn.org/stable/tutorial/basic/tutorial.html\n",
    "\n",
    "Machine learning models can only understand data that is represented numerically, but lots of the columns in our dataset like \"town_name\" are text _categorical_ data. Meanwhile, many models do better when continous numerical data is within small, consistent ranges, such as all data being between -1, 0 and 1, which is definitely not the case with our thousands of dollars loan units.\n",
    "\n",
    "So first, we will seperate out our samples (called _X_) into features we'd like to include in our model that are categorical or continous so that we can preprocess each appropriately seperately."
   ]
  },
  {
   "cell_type": "code",
   "execution_count": 9,
   "metadata": {},
   "outputs": [],
   "source": [
    "import sklearn # import scikit-learn\n",
    "from sklearn import preprocessing # import preprocessing utilites\n",
    "\n",
    "features_cat = ['loan_purpose_name', 'applicant_sex_name']\n",
    "features_num = ['loan_amount_000s', 'applicant_income_000s']\n",
    "\n",
    "X_cat = df[features_cat] \n",
    "X_num = df[features_num]"
   ]
  },
  {
   "cell_type": "markdown",
   "metadata": {},
   "source": [
    "### Part 2.A One Hot Encode Categorical Variables\n",
    "Run the following code to one hot encode the categorical features:"
   ]
  },
  {
   "cell_type": "code",
   "execution_count": 10,
   "metadata": {},
   "outputs": [],
   "source": [
    "enc = preprocessing.OneHotEncoder()\n",
    "enc.fit(X_cat) # fit the encoder to categories in our data \n",
    "one_hot = enc.transform(X_cat) # transform data into one hot encoded sparse array format"
   ]
  },
  {
   "cell_type": "code",
   "execution_count": 11,
   "metadata": {},
   "outputs": [
    {
     "data": {
      "text/html": [
       "<div>\n",
       "<style scoped>\n",
       "    .dataframe tbody tr th:only-of-type {\n",
       "        vertical-align: middle;\n",
       "    }\n",
       "\n",
       "    .dataframe tbody tr th {\n",
       "        vertical-align: top;\n",
       "    }\n",
       "\n",
       "    .dataframe thead th {\n",
       "        text-align: right;\n",
       "    }\n",
       "</style>\n",
       "<table border=\"1\" class=\"dataframe\">\n",
       "  <thead>\n",
       "    <tr style=\"text-align: right;\">\n",
       "      <th></th>\n",
       "      <th>x0_Home improvement</th>\n",
       "      <th>x0_Home purchase</th>\n",
       "      <th>x0_Refinancing</th>\n",
       "      <th>x1_Female</th>\n",
       "      <th>x1_Information not provided by applicant in mail, Internet, or telephone application</th>\n",
       "      <th>x1_Male</th>\n",
       "      <th>x1_Not applicable</th>\n",
       "    </tr>\n",
       "  </thead>\n",
       "  <tbody>\n",
       "    <tr>\n",
       "      <th>0</th>\n",
       "      <td>0.0</td>\n",
       "      <td>0.0</td>\n",
       "      <td>1.0</td>\n",
       "      <td>1.0</td>\n",
       "      <td>0.0</td>\n",
       "      <td>0.0</td>\n",
       "      <td>0.0</td>\n",
       "    </tr>\n",
       "    <tr>\n",
       "      <th>1</th>\n",
       "      <td>0.0</td>\n",
       "      <td>1.0</td>\n",
       "      <td>0.0</td>\n",
       "      <td>0.0</td>\n",
       "      <td>0.0</td>\n",
       "      <td>1.0</td>\n",
       "      <td>0.0</td>\n",
       "    </tr>\n",
       "    <tr>\n",
       "      <th>2</th>\n",
       "      <td>0.0</td>\n",
       "      <td>0.0</td>\n",
       "      <td>1.0</td>\n",
       "      <td>0.0</td>\n",
       "      <td>0.0</td>\n",
       "      <td>1.0</td>\n",
       "      <td>0.0</td>\n",
       "    </tr>\n",
       "    <tr>\n",
       "      <th>3</th>\n",
       "      <td>0.0</td>\n",
       "      <td>0.0</td>\n",
       "      <td>1.0</td>\n",
       "      <td>0.0</td>\n",
       "      <td>0.0</td>\n",
       "      <td>1.0</td>\n",
       "      <td>0.0</td>\n",
       "    </tr>\n",
       "    <tr>\n",
       "      <th>4</th>\n",
       "      <td>1.0</td>\n",
       "      <td>0.0</td>\n",
       "      <td>0.0</td>\n",
       "      <td>1.0</td>\n",
       "      <td>0.0</td>\n",
       "      <td>0.0</td>\n",
       "      <td>0.0</td>\n",
       "    </tr>\n",
       "  </tbody>\n",
       "</table>\n",
       "</div>"
      ],
      "text/plain": [
       "   x0_Home improvement  x0_Home purchase  x0_Refinancing  x1_Female  \\\n",
       "0                  0.0               0.0             1.0        1.0   \n",
       "1                  0.0               1.0             0.0        0.0   \n",
       "2                  0.0               0.0             1.0        0.0   \n",
       "3                  0.0               0.0             1.0        0.0   \n",
       "4                  1.0               0.0             0.0        1.0   \n",
       "\n",
       "   x1_Information not provided by applicant in mail, Internet, or telephone application  \\\n",
       "0                                                0.0                                      \n",
       "1                                                0.0                                      \n",
       "2                                                0.0                                      \n",
       "3                                                0.0                                      \n",
       "4                                                0.0                                      \n",
       "\n",
       "   x1_Male  x1_Not applicable  \n",
       "0      0.0                0.0  \n",
       "1      1.0                0.0  \n",
       "2      1.0                0.0  \n",
       "3      1.0                0.0  \n",
       "4      0.0                0.0  "
      ]
     },
     "execution_count": 11,
     "metadata": {},
     "output_type": "execute_result"
    }
   ],
   "source": [
    "# Finally, put the newly encoded sparse array back into a pandas dataframe so that we can use it\n",
    "X_cat_proc = pd.DataFrame(one_hot.toarray(), columns=enc.get_feature_names())\n",
    "X_cat_proc.head()"
   ]
  },
  {
   "cell_type": "markdown",
   "metadata": {},
   "source": [
    "### Question 2.A: In your own words, how is one hot coding tranforming the categorical data? What does the term \"one-hot\" refer to?\n",
    "#### <span style=\"color:#373737\"> Answer 2.A: One hot coding indicates the state of the state machine. This process has split the non numerical answers into columns, the columns being multiple choice questions (with option to choose only 1 option) which would have been answered by respondents during data collection.</span>\n",
    "#### <span style=\"color:#373737\">\"one hot\" means that among all values (of the non numerical column that has been split) one value is 1 i.e. **hot** and the rest are 0. Similarly, in cases when all values are 1 and one value is 0, 0 is called \"one cold\".</span>"
   ]
  },
  {
   "cell_type": "markdown",
   "metadata": {},
   "source": [
    "### Part 2.B Scaling down continuous numerical data\n",
    "Run the following code to normalize any continous numberical features, such as loan dollar amount, between -1 and 0. This process will ensure that the average of that feature, such as the average amount that a person asks for in loan amount, is scaled to 0. Values less than the average will be negative numbers, and values larger than the average will be positive numbers."
   ]
  },
  {
   "cell_type": "code",
   "execution_count": 12,
   "metadata": {},
   "outputs": [
    {
     "name": "stderr",
     "output_type": "stream",
     "text": [
      "/anaconda3/lib/python3.7/site-packages/ipykernel_launcher.py:1: DataConversionWarning: Data with input dtype int64, float64 were all converted to float64 by the scale function.\n",
      "  \"\"\"Entry point for launching an IPython kernel.\n"
     ]
    },
    {
     "data": {
      "text/html": [
       "<div>\n",
       "<style scoped>\n",
       "    .dataframe tbody tr th:only-of-type {\n",
       "        vertical-align: middle;\n",
       "    }\n",
       "\n",
       "    .dataframe tbody tr th {\n",
       "        vertical-align: top;\n",
       "    }\n",
       "\n",
       "    .dataframe thead th {\n",
       "        text-align: right;\n",
       "    }\n",
       "</style>\n",
       "<table border=\"1\" class=\"dataframe\">\n",
       "  <thead>\n",
       "    <tr style=\"text-align: right;\">\n",
       "      <th></th>\n",
       "      <th>loan_amount_000s</th>\n",
       "      <th>applicant_income_000s</th>\n",
       "    </tr>\n",
       "  </thead>\n",
       "  <tbody>\n",
       "    <tr>\n",
       "      <th>0</th>\n",
       "      <td>-0.130864</td>\n",
       "      <td>0.016448</td>\n",
       "    </tr>\n",
       "    <tr>\n",
       "      <th>1</th>\n",
       "      <td>-0.103680</td>\n",
       "      <td>-0.596232</td>\n",
       "    </tr>\n",
       "    <tr>\n",
       "      <th>2</th>\n",
       "      <td>-0.101589</td>\n",
       "      <td>0.024727</td>\n",
       "    </tr>\n",
       "    <tr>\n",
       "      <th>3</th>\n",
       "      <td>0.128424</td>\n",
       "      <td>1.664059</td>\n",
       "    </tr>\n",
       "    <tr>\n",
       "      <th>4</th>\n",
       "      <td>0.266432</td>\n",
       "      <td>-0.000111</td>\n",
       "    </tr>\n",
       "  </tbody>\n",
       "</table>\n",
       "</div>"
      ],
      "text/plain": [
       "   loan_amount_000s  applicant_income_000s\n",
       "0         -0.130864               0.016448\n",
       "1         -0.103680              -0.596232\n",
       "2         -0.101589               0.024727\n",
       "3          0.128424               1.664059\n",
       "4          0.266432              -0.000111"
      ]
     },
     "execution_count": 12,
     "metadata": {},
     "output_type": "execute_result"
    }
   ],
   "source": [
    "scaled = preprocessing.scale(X_num)\n",
    "X_num_proc = pd.DataFrame(scaled, columns=features_num)\n",
    "X_num_proc.head()"
   ]
  },
  {
   "cell_type": "markdown",
   "metadata": {},
   "source": [
    "### Part 2.C Merge our feature sets into one sample dataset _X_ and fix NaN values\n",
    "Run the code below to combine the numerical and categorical feature sets."
   ]
  },
  {
   "cell_type": "code",
   "execution_count": 13,
   "metadata": {},
   "outputs": [
    {
     "data": {
      "text/html": [
       "<div>\n",
       "<style scoped>\n",
       "    .dataframe tbody tr th:only-of-type {\n",
       "        vertical-align: middle;\n",
       "    }\n",
       "\n",
       "    .dataframe tbody tr th {\n",
       "        vertical-align: top;\n",
       "    }\n",
       "\n",
       "    .dataframe thead th {\n",
       "        text-align: right;\n",
       "    }\n",
       "</style>\n",
       "<table border=\"1\" class=\"dataframe\">\n",
       "  <thead>\n",
       "    <tr style=\"text-align: right;\">\n",
       "      <th></th>\n",
       "      <th>loan_amount_000s</th>\n",
       "      <th>applicant_income_000s</th>\n",
       "      <th>x0_Home improvement</th>\n",
       "      <th>x0_Home purchase</th>\n",
       "      <th>x0_Refinancing</th>\n",
       "      <th>x1_Female</th>\n",
       "      <th>x1_Information not provided by applicant in mail, Internet, or telephone application</th>\n",
       "      <th>x1_Male</th>\n",
       "      <th>x1_Not applicable</th>\n",
       "    </tr>\n",
       "  </thead>\n",
       "  <tbody>\n",
       "    <tr>\n",
       "      <th>0</th>\n",
       "      <td>-0.130864</td>\n",
       "      <td>0.016448</td>\n",
       "      <td>0.0</td>\n",
       "      <td>0.0</td>\n",
       "      <td>1.0</td>\n",
       "      <td>1.0</td>\n",
       "      <td>0.0</td>\n",
       "      <td>0.0</td>\n",
       "      <td>0.0</td>\n",
       "    </tr>\n",
       "    <tr>\n",
       "      <th>1</th>\n",
       "      <td>-0.103680</td>\n",
       "      <td>-0.596232</td>\n",
       "      <td>0.0</td>\n",
       "      <td>1.0</td>\n",
       "      <td>0.0</td>\n",
       "      <td>0.0</td>\n",
       "      <td>0.0</td>\n",
       "      <td>1.0</td>\n",
       "      <td>0.0</td>\n",
       "    </tr>\n",
       "    <tr>\n",
       "      <th>2</th>\n",
       "      <td>-0.101589</td>\n",
       "      <td>0.024727</td>\n",
       "      <td>0.0</td>\n",
       "      <td>0.0</td>\n",
       "      <td>1.0</td>\n",
       "      <td>0.0</td>\n",
       "      <td>0.0</td>\n",
       "      <td>1.0</td>\n",
       "      <td>0.0</td>\n",
       "    </tr>\n",
       "    <tr>\n",
       "      <th>3</th>\n",
       "      <td>0.128424</td>\n",
       "      <td>1.664059</td>\n",
       "      <td>0.0</td>\n",
       "      <td>0.0</td>\n",
       "      <td>1.0</td>\n",
       "      <td>0.0</td>\n",
       "      <td>0.0</td>\n",
       "      <td>1.0</td>\n",
       "      <td>0.0</td>\n",
       "    </tr>\n",
       "    <tr>\n",
       "      <th>4</th>\n",
       "      <td>0.266432</td>\n",
       "      <td>-0.000111</td>\n",
       "      <td>1.0</td>\n",
       "      <td>0.0</td>\n",
       "      <td>0.0</td>\n",
       "      <td>1.0</td>\n",
       "      <td>0.0</td>\n",
       "      <td>0.0</td>\n",
       "      <td>0.0</td>\n",
       "    </tr>\n",
       "  </tbody>\n",
       "</table>\n",
       "</div>"
      ],
      "text/plain": [
       "   loan_amount_000s  applicant_income_000s  x0_Home improvement  \\\n",
       "0         -0.130864               0.016448                  0.0   \n",
       "1         -0.103680              -0.596232                  0.0   \n",
       "2         -0.101589               0.024727                  0.0   \n",
       "3          0.128424               1.664059                  0.0   \n",
       "4          0.266432              -0.000111                  1.0   \n",
       "\n",
       "   x0_Home purchase  x0_Refinancing  x1_Female  \\\n",
       "0               0.0             1.0        1.0   \n",
       "1               1.0             0.0        0.0   \n",
       "2               0.0             1.0        0.0   \n",
       "3               0.0             1.0        0.0   \n",
       "4               0.0             0.0        1.0   \n",
       "\n",
       "   x1_Information not provided by applicant in mail, Internet, or telephone application  \\\n",
       "0                                                0.0                                      \n",
       "1                                                0.0                                      \n",
       "2                                                0.0                                      \n",
       "3                                                0.0                                      \n",
       "4                                                0.0                                      \n",
       "\n",
       "   x1_Male  x1_Not applicable  \n",
       "0      0.0                0.0  \n",
       "1      1.0                0.0  \n",
       "2      1.0                0.0  \n",
       "3      1.0                0.0  \n",
       "4      0.0                0.0  "
      ]
     },
     "execution_count": 13,
     "metadata": {},
     "output_type": "execute_result"
    }
   ],
   "source": [
    "X = pd.concat([X_num_proc, X_cat_proc], axis=1, sort=False)\n",
    "X.head()"
   ]
  },
  {
   "cell_type": "markdown",
   "metadata": {},
   "source": [
    "### Question 2.C The code line below removes any NaN values in our sample with 0. NaNs are missing values that a model won't be able to understand. What is the _semantic_ meaning of replaceing a NaN with 0 for the categorical variables? And for the continous numerical variables? \n",
    "#### <span style=\"color:#373737\"> Answer 2.C: For the categorical variables, we have value of either 1 or 0. Thus when we have NaN filled in in one of those, then it means that if the user didn't fill anything, then that information is not valid for them. For continuous numerical variables, a code was written previously to normalise the data, with the average being O. Thus if that data is missing, then replacing NaN with 0 will make it as the average value, thus helping us to retain and use the data in other columns without dropping the whole row. </span>"
   ]
  },
  {
   "cell_type": "code",
   "execution_count": 14,
   "metadata": {},
   "outputs": [],
   "source": [
    "X = X.fillna(0) # remove NaN values"
   ]
  },
  {
   "cell_type": "markdown",
   "metadata": {},
   "source": [
    "### Part 2.D Create our target array _y_ that our model will try to predict"
   ]
  },
  {
   "cell_type": "code",
   "execution_count": 15,
   "metadata": {},
   "outputs": [],
   "source": [
    "y = df['loan_approved'] # target"
   ]
  },
  {
   "cell_type": "markdown",
   "metadata": {},
   "source": [
    "### Part 2.E Split our data into training, test, and validation sets\n",
    "Run the code below to split the data. Both validation and test sets will be used for testing our model, but use the validation set while you are developing and improving your model, and leave the test for late stage evaluation."
   ]
  },
  {
   "cell_type": "code",
   "execution_count": 16,
   "metadata": {},
   "outputs": [
    {
     "name": "stdout",
     "output_type": "stream",
     "text": [
      "(258496, 9) (55392, 9) (55393, 9)\n"
     ]
    }
   ],
   "source": [
    "from sklearn.model_selection import train_test_split\n",
    "X_train, X_TEMP, y_train, y_TEMP = train_test_split(X, y, test_size=0.30) # split out into training 70% of our data\n",
    "X_validation, X_test, y_validation, y_test = train_test_split(X_TEMP, y_TEMP, test_size=0.50) # split out into validation 15% of our data and test 15% of our data\n",
    "print(X_train.shape, X_validation.shape, X_test.shape) # print data shape to check the sizing is correct"
   ]
  },
  {
   "cell_type": "markdown",
   "metadata": {},
   "source": [
    "### Question 2.E:  In a  single sentence, what is the difference between train, test, and validation sets?\n",
    "#### <span style=\"color:#373737\">Answer 2.E: Training set is the data from which the model sees and learns.</span>\n",
    "#### <span style=\"color:#373737\">Validation set: This is used to frequently evaluate the model and fine tune it.</span> \n",
    "#### <span style=\"color:#373737\">Test set: This is only used when when a model is completely trained using the train and validation sets. It is considered a gold standard when evaluating a model.It provides an unbiased evaluation of a final model fit on the training dataset.</span>"
   ]
  },
  {
   "cell_type": "markdown",
   "metadata": {},
   "source": [
    "## Part 3. Developing Models\n",
    "Scikit-learn has a substantial library of different models we can use for classification. Below are implemented two of the most simple classification models, Logistic Regression and Dummy Classifier."
   ]
  },
  {
   "cell_type": "code",
   "execution_count": 17,
   "metadata": {},
   "outputs": [],
   "source": [
    "# personal notes\n",
    "# a confusion matrix is a table that describes the performance of a classification model/ classifier on a set of\n",
    "# test data for which the true values are known.\n",
    "\n",
    "from sklearn.metrics import confusion_matrix\n",
    "from sklearn.metrics import classification_report\n",
    "\n",
    "# helper method to print basic model metrics\n",
    "def metrics(y_true, y_pred):\n",
    "    print('Confusion matrix:\\n', confusion_matrix(y_true, y_pred))\n",
    "    print('\\nReport:\\n', classification_report(y_true, y_pred))"
   ]
  },
  {
   "cell_type": "code",
   "execution_count": 18,
   "metadata": {},
   "outputs": [
    {
     "name": "stdout",
     "output_type": "stream",
     "text": [
      "Confusion matrix:\n",
      " [[    0  9068]\n",
      " [    0 46324]]\n",
      "\n",
      "Report:\n",
      "               precision    recall  f1-score   support\n",
      "\n",
      "           0       0.00      0.00      0.00      9068\n",
      "           1       0.84      1.00      0.91     46324\n",
      "\n",
      "   micro avg       0.84      0.84      0.84     55392\n",
      "   macro avg       0.42      0.50      0.46     55392\n",
      "weighted avg       0.70      0.84      0.76     55392\n",
      "\n"
     ]
    },
    {
     "name": "stderr",
     "output_type": "stream",
     "text": [
      "/anaconda3/lib/python3.7/site-packages/sklearn/metrics/classification.py:1143: UndefinedMetricWarning: Precision and F-score are ill-defined and being set to 0.0 in labels with no predicted samples.\n",
      "  'precision', 'predicted', average, warn_for)\n"
     ]
    }
   ],
   "source": [
    "# personal notes\n",
    "# LR is used when the target/ dependent variable is categorical\n",
    "# in LR, the value of data points ranges strictly from 0 to 1 \n",
    "# refer to: https://towardsdatascience.com/logistic-regression-detailed-overview-46c4da4303bc\n",
    "\n",
    "from sklearn.linear_model import LogisticRegression\n",
    "\n",
    "model = LogisticRegression(solver='lbfgs').fit(X_train, y_train) # first fit (train) the model\n",
    "y_pred = model.predict(X_validation) # next get the model's predictions for a sample in the validation set\n",
    "metrics(y_validation, y_pred) # finally evaluate performance"
   ]
  },
  {
   "cell_type": "markdown",
   "metadata": {},
   "source": [
    "The Dummy Classifier is a 'dummy' because it is going to use zero machine learning, and simply predict \"approve this loan\" (value 1) for every loan it sees."
   ]
  },
  {
   "cell_type": "code",
   "execution_count": 19,
   "metadata": {},
   "outputs": [
    {
     "name": "stdout",
     "output_type": "stream",
     "text": [
      "Confusion matrix:\n",
      " [[    0  9068]\n",
      " [    0 46324]]\n",
      "\n",
      "Report:\n",
      "               precision    recall  f1-score   support\n",
      "\n",
      "           0       0.00      0.00      0.00      9068\n",
      "           1       0.84      1.00      0.91     46324\n",
      "\n",
      "   micro avg       0.84      0.84      0.84     55392\n",
      "   macro avg       0.42      0.50      0.46     55392\n",
      "weighted avg       0.70      0.84      0.76     55392\n",
      "\n"
     ]
    }
   ],
   "source": [
    "from sklearn.dummy import DummyClassifier\n",
    "\n",
    "approve_everyone = DummyClassifier(strategy='constant', constant = 1).fit(X_train, y_train) # first fit (train) the model\n",
    "y_pred_dummy = approve_everyone.predict(X_validation) # next get the model's predictions for a sample in the validation set\n",
    "metrics(y_validation, y_pred_dummy) # finally evaluate performance"
   ]
  },
  {
   "cell_type": "markdown",
   "metadata": {},
   "source": [
    "## Question 3.A: Considering only the data itself, why do Logistic Regression and the Dummy Classifier perform the same? What is the semantic meaning for why Dummy Classifier has such high accuracy?\n",
    "#### <span style=\"color:#373737\">Answer 3.A: The dataset seems to be imbalanced. There are so many cases of loan approval = 1, that model predicts that every loan is approved. The false positives as can be seen from the confusion matrix are also very high. Due to this, the dummy classifier and the Logistic Regression perform the same. </span>"
   ]
  },
  {
   "cell_type": "markdown",
   "metadata": {},
   "source": [
    "## Part 4: Your turn!\n",
    "\n",
    "### Task 4.A: Create a new balanced dataset where exactly half of the samples are rejected loan applications and half are accepted loan application.\n",
    "_show your work below_"
   ]
  },
  {
   "cell_type": "markdown",
   "metadata": {},
   "source": [
    "#### Inspecting the number of approvals and disapprovals since the dataset is skewed"
   ]
  },
  {
   "cell_type": "code",
   "execution_count": 20,
   "metadata": {},
   "outputs": [
    {
     "data": {
      "text/plain": [
       "1    308901\n",
       "0     60380\n",
       "Name: loan_approved, dtype: int64"
      ]
     },
     "execution_count": 20,
     "metadata": {},
     "output_type": "execute_result"
    }
   ],
   "source": [
    "loan_apps = df['loan_approved'] #create dataframe \n",
    "loan_apps.value_counts() #count the number of 0 and 1 in the loan_approved dataframe"
   ]
  },
  {
   "cell_type": "code",
   "execution_count": 21,
   "metadata": {},
   "outputs": [
    {
     "data": {
      "text/plain": [
       "0    1\n",
       "1    1\n",
       "2    1\n",
       "3    1\n",
       "4    1\n",
       "Name: loan_approved, dtype: int64"
      ]
     },
     "execution_count": 21,
     "metadata": {},
     "output_type": "execute_result"
    }
   ],
   "source": [
    "#checking if the dataframe has been created correctly \n",
    "loan_apps.head()"
   ]
  },
  {
   "cell_type": "code",
   "execution_count": 22,
   "metadata": {},
   "outputs": [
    {
     "data": {
      "text/plain": [
       "(369281,)"
      ]
     },
     "execution_count": 22,
     "metadata": {},
     "output_type": "execute_result"
    }
   ],
   "source": [
    "loan_apps.shape"
   ]
  },
  {
   "cell_type": "markdown",
   "metadata": {},
   "source": [
    "#### Pick up 60380 approved loan application rows only. When the dataframes are merged together later, it will help to balance it. "
   ]
  },
  {
   "cell_type": "code",
   "execution_count": 23,
   "metadata": {},
   "outputs": [
    {
     "data": {
      "text/plain": [
       "(60380, 27)"
      ]
     },
     "execution_count": 23,
     "metadata": {},
     "output_type": "execute_result"
    }
   ],
   "source": [
    "#make separate dataframes of the 0 and 1's in the dataframe\n",
    "zero = df[loan_apps == 0]\n",
    "one = df[loan_apps == 1]\n",
    "chosen_one = one.sample(n = 60380)\n",
    "zero.shape\n",
    "\n",
    "# helpful tutorial: select rows in a dataframe by conditions on multiple columns\n",
    "# https://thispointer.com/python-pandas-select-rows-in-dataframe-by-conditions-on-multiple-columns/"
   ]
  },
  {
   "cell_type": "markdown",
   "metadata": {},
   "source": [
    "#### Merging the two dataframes carrying values of loan approval as 0 and 1."
   ]
  },
  {
   "cell_type": "code",
   "execution_count": 24,
   "metadata": {},
   "outputs": [
    {
     "data": {
      "text/html": [
       "<div>\n",
       "<style scoped>\n",
       "    .dataframe tbody tr th:only-of-type {\n",
       "        vertical-align: middle;\n",
       "    }\n",
       "\n",
       "    .dataframe tbody tr th {\n",
       "        vertical-align: top;\n",
       "    }\n",
       "\n",
       "    .dataframe thead th {\n",
       "        text-align: right;\n",
       "    }\n",
       "</style>\n",
       "<table border=\"1\" class=\"dataframe\">\n",
       "  <thead>\n",
       "    <tr style=\"text-align: right;\">\n",
       "      <th></th>\n",
       "      <th>applicant_ethnicity_name</th>\n",
       "      <th>applicant_income_000s</th>\n",
       "      <th>applicant_race_name_1</th>\n",
       "      <th>applicant_race_name_2</th>\n",
       "      <th>applicant_race_name_3</th>\n",
       "      <th>applicant_race_name_4</th>\n",
       "      <th>applicant_race_name_5</th>\n",
       "      <th>applicant_sex_name</th>\n",
       "      <th>co_applicant_ethnicity_name</th>\n",
       "      <th>co_applicant_race_name_1</th>\n",
       "      <th>...</th>\n",
       "      <th>denial_reason_name_1</th>\n",
       "      <th>denial_reason_name_2</th>\n",
       "      <th>denial_reason_name_3</th>\n",
       "      <th>is_hoepa_loan</th>\n",
       "      <th>loan_amount_000s</th>\n",
       "      <th>loan_purpose_name</th>\n",
       "      <th>loan_type_name</th>\n",
       "      <th>occupied_by_owner</th>\n",
       "      <th>property_type_name</th>\n",
       "      <th>town_name</th>\n",
       "    </tr>\n",
       "  </thead>\n",
       "  <tbody>\n",
       "    <tr>\n",
       "      <th>245939</th>\n",
       "      <td>Not Hispanic or Latino</td>\n",
       "      <td>166.0</td>\n",
       "      <td>White</td>\n",
       "      <td>NaN</td>\n",
       "      <td>NaN</td>\n",
       "      <td>NaN</td>\n",
       "      <td>NaN</td>\n",
       "      <td>Male</td>\n",
       "      <td>Not Hispanic or Latino</td>\n",
       "      <td>White</td>\n",
       "      <td>...</td>\n",
       "      <td>NaN</td>\n",
       "      <td>NaN</td>\n",
       "      <td>NaN</td>\n",
       "      <td>0</td>\n",
       "      <td>174</td>\n",
       "      <td>Refinancing</td>\n",
       "      <td>Conventional</td>\n",
       "      <td>1</td>\n",
       "      <td>One-to-four family dwelling (other than manufa...</td>\n",
       "      <td>Spokane, Spokane Valley - WA</td>\n",
       "    </tr>\n",
       "    <tr>\n",
       "      <th>245944</th>\n",
       "      <td>Not Hispanic or Latino</td>\n",
       "      <td>92.0</td>\n",
       "      <td>White</td>\n",
       "      <td>NaN</td>\n",
       "      <td>NaN</td>\n",
       "      <td>NaN</td>\n",
       "      <td>NaN</td>\n",
       "      <td>Male</td>\n",
       "      <td>No co-applicant</td>\n",
       "      <td>No co-applicant</td>\n",
       "      <td>...</td>\n",
       "      <td>NaN</td>\n",
       "      <td>NaN</td>\n",
       "      <td>NaN</td>\n",
       "      <td>0</td>\n",
       "      <td>195</td>\n",
       "      <td>Refinancing</td>\n",
       "      <td>Conventional</td>\n",
       "      <td>1</td>\n",
       "      <td>One-to-four family dwelling (other than manufa...</td>\n",
       "      <td>NaN</td>\n",
       "    </tr>\n",
       "    <tr>\n",
       "      <th>245949</th>\n",
       "      <td>Hispanic or Latino</td>\n",
       "      <td>64.0</td>\n",
       "      <td>White</td>\n",
       "      <td>NaN</td>\n",
       "      <td>NaN</td>\n",
       "      <td>NaN</td>\n",
       "      <td>NaN</td>\n",
       "      <td>Male</td>\n",
       "      <td>No co-applicant</td>\n",
       "      <td>No co-applicant</td>\n",
       "      <td>...</td>\n",
       "      <td>Other</td>\n",
       "      <td>NaN</td>\n",
       "      <td>NaN</td>\n",
       "      <td>0</td>\n",
       "      <td>119</td>\n",
       "      <td>Refinancing</td>\n",
       "      <td>Conventional</td>\n",
       "      <td>1</td>\n",
       "      <td>One-to-four family dwelling (other than manufa...</td>\n",
       "      <td>NaN</td>\n",
       "    </tr>\n",
       "    <tr>\n",
       "      <th>245954</th>\n",
       "      <td>Not Hispanic or Latino</td>\n",
       "      <td>200.0</td>\n",
       "      <td>White</td>\n",
       "      <td>NaN</td>\n",
       "      <td>NaN</td>\n",
       "      <td>NaN</td>\n",
       "      <td>NaN</td>\n",
       "      <td>Male</td>\n",
       "      <td>No co-applicant</td>\n",
       "      <td>No co-applicant</td>\n",
       "      <td>...</td>\n",
       "      <td>Credit application incomplete</td>\n",
       "      <td>NaN</td>\n",
       "      <td>NaN</td>\n",
       "      <td>0</td>\n",
       "      <td>417</td>\n",
       "      <td>Refinancing</td>\n",
       "      <td>Conventional</td>\n",
       "      <td>1</td>\n",
       "      <td>One-to-four family dwelling (other than manufa...</td>\n",
       "      <td>Portland, Vancouver, Hillsboro - OR, WA</td>\n",
       "    </tr>\n",
       "    <tr>\n",
       "      <th>245959</th>\n",
       "      <td>Not Hispanic or Latino</td>\n",
       "      <td>NaN</td>\n",
       "      <td>White</td>\n",
       "      <td>NaN</td>\n",
       "      <td>NaN</td>\n",
       "      <td>NaN</td>\n",
       "      <td>NaN</td>\n",
       "      <td>Male</td>\n",
       "      <td>Not Hispanic or Latino</td>\n",
       "      <td>White</td>\n",
       "      <td>...</td>\n",
       "      <td>Collateral</td>\n",
       "      <td>NaN</td>\n",
       "      <td>NaN</td>\n",
       "      <td>0</td>\n",
       "      <td>90</td>\n",
       "      <td>Home improvement</td>\n",
       "      <td>Conventional</td>\n",
       "      <td>0</td>\n",
       "      <td>One-to-four family dwelling (other than manufa...</td>\n",
       "      <td>Seattle, Bellevue, Everett - WA</td>\n",
       "    </tr>\n",
       "  </tbody>\n",
       "</table>\n",
       "<p>5 rows × 26 columns</p>\n",
       "</div>"
      ],
      "text/plain": [
       "       applicant_ethnicity_name  applicant_income_000s applicant_race_name_1  \\\n",
       "245939   Not Hispanic or Latino                  166.0                 White   \n",
       "245944   Not Hispanic or Latino                   92.0                 White   \n",
       "245949       Hispanic or Latino                   64.0                 White   \n",
       "245954   Not Hispanic or Latino                  200.0                 White   \n",
       "245959   Not Hispanic or Latino                    NaN                 White   \n",
       "\n",
       "       applicant_race_name_2 applicant_race_name_3 applicant_race_name_4  \\\n",
       "245939                   NaN                   NaN                   NaN   \n",
       "245944                   NaN                   NaN                   NaN   \n",
       "245949                   NaN                   NaN                   NaN   \n",
       "245954                   NaN                   NaN                   NaN   \n",
       "245959                   NaN                   NaN                   NaN   \n",
       "\n",
       "       applicant_race_name_5 applicant_sex_name co_applicant_ethnicity_name  \\\n",
       "245939                   NaN               Male      Not Hispanic or Latino   \n",
       "245944                   NaN               Male             No co-applicant   \n",
       "245949                   NaN               Male             No co-applicant   \n",
       "245954                   NaN               Male             No co-applicant   \n",
       "245959                   NaN               Male      Not Hispanic or Latino   \n",
       "\n",
       "       co_applicant_race_name_1  ...           denial_reason_name_1  \\\n",
       "245939                    White  ...                            NaN   \n",
       "245944          No co-applicant  ...                            NaN   \n",
       "245949          No co-applicant  ...                          Other   \n",
       "245954          No co-applicant  ...  Credit application incomplete   \n",
       "245959                    White  ...                     Collateral   \n",
       "\n",
       "       denial_reason_name_2 denial_reason_name_3 is_hoepa_loan  \\\n",
       "245939                  NaN                  NaN             0   \n",
       "245944                  NaN                  NaN             0   \n",
       "245949                  NaN                  NaN             0   \n",
       "245954                  NaN                  NaN             0   \n",
       "245959                  NaN                  NaN             0   \n",
       "\n",
       "       loan_amount_000s loan_purpose_name loan_type_name occupied_by_owner  \\\n",
       "245939              174       Refinancing   Conventional                 1   \n",
       "245944              195       Refinancing   Conventional                 1   \n",
       "245949              119       Refinancing   Conventional                 1   \n",
       "245954              417       Refinancing   Conventional                 1   \n",
       "245959               90  Home improvement   Conventional                 0   \n",
       "\n",
       "                                       property_type_name  \\\n",
       "245939  One-to-four family dwelling (other than manufa...   \n",
       "245944  One-to-four family dwelling (other than manufa...   \n",
       "245949  One-to-four family dwelling (other than manufa...   \n",
       "245954  One-to-four family dwelling (other than manufa...   \n",
       "245959  One-to-four family dwelling (other than manufa...   \n",
       "\n",
       "                                      town_name  \n",
       "245939             Spokane, Spokane Valley - WA  \n",
       "245944                                      NaN  \n",
       "245949                                      NaN  \n",
       "245954  Portland, Vancouver, Hillsboro - OR, WA  \n",
       "245959          Seattle, Bellevue, Everett - WA  \n",
       "\n",
       "[5 rows x 26 columns]"
      ]
     },
     "execution_count": 24,
     "metadata": {},
     "output_type": "execute_result"
    }
   ],
   "source": [
    "#1 and 0 are now in equal numbers\n",
    "# new dataset has been created\n",
    "#helpful tutorial: \n",
    "#https://medium.com/@haydar_ai/learning-data-science-day-9-linear-regression-on-boston-housing-dataset-cd62a80775ef\n",
    "\n",
    "Xo = pd.concat([zero, chosen_one], axis=0, sort=True) #concatenate along row thus axis = 0\n",
    "dfX = Xo.drop('loan_approved', axis =1) #drop the column which is to be predicted from the dataset\n",
    "#dfX.reset_index()\n",
    "dfX.head()"
   ]
  },
  {
   "cell_type": "code",
   "execution_count": 25,
   "metadata": {},
   "outputs": [
    {
     "name": "stdout",
     "output_type": "stream",
     "text": [
      "Index(['applicant_ethnicity_name', 'applicant_income_000s',\n",
      "       'applicant_race_name_1', 'applicant_race_name_2',\n",
      "       'applicant_race_name_3', 'applicant_race_name_4',\n",
      "       'applicant_race_name_5', 'applicant_sex_name',\n",
      "       'co_applicant_ethnicity_name', 'co_applicant_race_name_1',\n",
      "       'co_applicant_race_name_2', 'co_applicant_race_name_3',\n",
      "       'co_applicant_race_name_4', 'co_applicant_race_name_5',\n",
      "       'co_applicant_sex_name', 'county_name', 'denial_reason_name_1',\n",
      "       'denial_reason_name_2', 'denial_reason_name_3', 'is_hoepa_loan',\n",
      "       'loan_amount_000s', 'loan_purpose_name', 'loan_type_name',\n",
      "       'occupied_by_owner', 'property_type_name', 'town_name'],\n",
      "      dtype='object')\n",
      "(120760, 26)\n"
     ]
    }
   ],
   "source": [
    "print(dfX.columns) #inspect the columns in the dataset \n",
    "print(dfX.shape)"
   ]
  },
  {
   "cell_type": "markdown",
   "metadata": {},
   "source": [
    "#### Seperating samples into pieces of data that we want to include and those which will help to predict."
   ]
  },
  {
   "cell_type": "code",
   "execution_count": 26,
   "metadata": {},
   "outputs": [
    {
     "name": "stdout",
     "output_type": "stream",
     "text": [
      "(120760, 2)\n"
     ]
    }
   ],
   "source": [
    "features_categorical = ['loan_purpose_name', 'applicant_sex_name']\n",
    "features_numerical = ['loan_amount_000s', 'applicant_income_000s']\n",
    "\n",
    "Xx_cat = dfX[features_categorical] \n",
    "Xx_num = dfX[features_numerical]\n",
    "\n",
    "print(Xx_cat.shape) #checking if the dataframe has been created correctly"
   ]
  },
  {
   "cell_type": "markdown",
   "metadata": {},
   "source": [
    "#### One Hot Encode the data"
   ]
  },
  {
   "cell_type": "code",
   "execution_count": 27,
   "metadata": {},
   "outputs": [],
   "source": [
    "enc = preprocessing.OneHotEncoder()\n",
    "enc.fit(Xx_cat) # fit the encoder to categories in our data \n",
    "one_hot = enc.transform(Xx_cat) # transform data into one hot encoded sparse array format"
   ]
  },
  {
   "cell_type": "code",
   "execution_count": 28,
   "metadata": {},
   "outputs": [
    {
     "data": {
      "text/html": [
       "<div>\n",
       "<style scoped>\n",
       "    .dataframe tbody tr th:only-of-type {\n",
       "        vertical-align: middle;\n",
       "    }\n",
       "\n",
       "    .dataframe tbody tr th {\n",
       "        vertical-align: top;\n",
       "    }\n",
       "\n",
       "    .dataframe thead th {\n",
       "        text-align: right;\n",
       "    }\n",
       "</style>\n",
       "<table border=\"1\" class=\"dataframe\">\n",
       "  <thead>\n",
       "    <tr style=\"text-align: right;\">\n",
       "      <th></th>\n",
       "      <th>x0_Home improvement</th>\n",
       "      <th>x0_Home purchase</th>\n",
       "      <th>x0_Refinancing</th>\n",
       "      <th>x1_Female</th>\n",
       "      <th>x1_Information not provided by applicant in mail, Internet, or telephone application</th>\n",
       "      <th>x1_Male</th>\n",
       "      <th>x1_Not applicable</th>\n",
       "    </tr>\n",
       "  </thead>\n",
       "  <tbody>\n",
       "    <tr>\n",
       "      <th>245939</th>\n",
       "      <td>0.0</td>\n",
       "      <td>0.0</td>\n",
       "      <td>1.0</td>\n",
       "      <td>0.0</td>\n",
       "      <td>0.0</td>\n",
       "      <td>1.0</td>\n",
       "      <td>0.0</td>\n",
       "    </tr>\n",
       "    <tr>\n",
       "      <th>245944</th>\n",
       "      <td>0.0</td>\n",
       "      <td>0.0</td>\n",
       "      <td>1.0</td>\n",
       "      <td>0.0</td>\n",
       "      <td>0.0</td>\n",
       "      <td>1.0</td>\n",
       "      <td>0.0</td>\n",
       "    </tr>\n",
       "    <tr>\n",
       "      <th>245949</th>\n",
       "      <td>0.0</td>\n",
       "      <td>0.0</td>\n",
       "      <td>1.0</td>\n",
       "      <td>0.0</td>\n",
       "      <td>0.0</td>\n",
       "      <td>1.0</td>\n",
       "      <td>0.0</td>\n",
       "    </tr>\n",
       "    <tr>\n",
       "      <th>245954</th>\n",
       "      <td>0.0</td>\n",
       "      <td>0.0</td>\n",
       "      <td>1.0</td>\n",
       "      <td>0.0</td>\n",
       "      <td>0.0</td>\n",
       "      <td>1.0</td>\n",
       "      <td>0.0</td>\n",
       "    </tr>\n",
       "    <tr>\n",
       "      <th>245959</th>\n",
       "      <td>1.0</td>\n",
       "      <td>0.0</td>\n",
       "      <td>0.0</td>\n",
       "      <td>0.0</td>\n",
       "      <td>0.0</td>\n",
       "      <td>1.0</td>\n",
       "      <td>0.0</td>\n",
       "    </tr>\n",
       "  </tbody>\n",
       "</table>\n",
       "</div>"
      ],
      "text/plain": [
       "        x0_Home improvement  x0_Home purchase  x0_Refinancing  x1_Female  \\\n",
       "245939                  0.0               0.0             1.0        0.0   \n",
       "245944                  0.0               0.0             1.0        0.0   \n",
       "245949                  0.0               0.0             1.0        0.0   \n",
       "245954                  0.0               0.0             1.0        0.0   \n",
       "245959                  1.0               0.0             0.0        0.0   \n",
       "\n",
       "        x1_Information not provided by applicant in mail, Internet, or telephone application  \\\n",
       "245939                                                0.0                                      \n",
       "245944                                                0.0                                      \n",
       "245949                                                0.0                                      \n",
       "245954                                                0.0                                      \n",
       "245959                                                0.0                                      \n",
       "\n",
       "        x1_Male  x1_Not applicable  \n",
       "245939      1.0                0.0  \n",
       "245944      1.0                0.0  \n",
       "245949      1.0                0.0  \n",
       "245954      1.0                0.0  \n",
       "245959      1.0                0.0  "
      ]
     },
     "execution_count": 28,
     "metadata": {},
     "output_type": "execute_result"
    }
   ],
   "source": [
    "# Finally, put the newly encoded sparse array back into a pandas dataframe so that we can use it\n",
    "Xx_cat_proc = pd.DataFrame(one_hot.toarray(), columns=enc.get_feature_names(), index=Xx_cat.index)\n",
    "Xx_cat_proc.head()"
   ]
  },
  {
   "cell_type": "markdown",
   "metadata": {},
   "source": [
    "#### scale down continuous numerical data"
   ]
  },
  {
   "cell_type": "code",
   "execution_count": 29,
   "metadata": {},
   "outputs": [
    {
     "name": "stderr",
     "output_type": "stream",
     "text": [
      "/anaconda3/lib/python3.7/site-packages/ipykernel_launcher.py:1: DataConversionWarning: Data with input dtype int64, float64 were all converted to float64 by the scale function.\n",
      "  \"\"\"Entry point for launching an IPython kernel.\n"
     ]
    },
    {
     "data": {
      "text/html": [
       "<div>\n",
       "<style scoped>\n",
       "    .dataframe tbody tr th:only-of-type {\n",
       "        vertical-align: middle;\n",
       "    }\n",
       "\n",
       "    .dataframe tbody tr th {\n",
       "        vertical-align: top;\n",
       "    }\n",
       "\n",
       "    .dataframe thead th {\n",
       "        text-align: right;\n",
       "    }\n",
       "</style>\n",
       "<table border=\"1\" class=\"dataframe\">\n",
       "  <thead>\n",
       "    <tr style=\"text-align: right;\">\n",
       "      <th></th>\n",
       "      <th>loan_amount_000s</th>\n",
       "      <th>applicant_income_000s</th>\n",
       "    </tr>\n",
       "  </thead>\n",
       "  <tbody>\n",
       "    <tr>\n",
       "      <th>245939</th>\n",
       "      <td>-0.157392</td>\n",
       "      <td>0.440270</td>\n",
       "    </tr>\n",
       "    <tr>\n",
       "      <th>245944</th>\n",
       "      <td>-0.125386</td>\n",
       "      <td>-0.115452</td>\n",
       "    </tr>\n",
       "    <tr>\n",
       "      <th>245949</th>\n",
       "      <td>-0.241217</td>\n",
       "      <td>-0.325725</td>\n",
       "    </tr>\n",
       "    <tr>\n",
       "      <th>245954</th>\n",
       "      <td>0.212963</td>\n",
       "      <td>0.695602</td>\n",
       "    </tr>\n",
       "    <tr>\n",
       "      <th>245959</th>\n",
       "      <td>-0.285416</td>\n",
       "      <td>NaN</td>\n",
       "    </tr>\n",
       "  </tbody>\n",
       "</table>\n",
       "</div>"
      ],
      "text/plain": [
       "        loan_amount_000s  applicant_income_000s\n",
       "245939         -0.157392               0.440270\n",
       "245944         -0.125386              -0.115452\n",
       "245949         -0.241217              -0.325725\n",
       "245954          0.212963               0.695602\n",
       "245959         -0.285416                    NaN"
      ]
     },
     "execution_count": 29,
     "metadata": {},
     "output_type": "execute_result"
    }
   ],
   "source": [
    "scaled = preprocessing.scale(Xx_num)\n",
    "Xx_num_proc = pd.DataFrame(scaled, columns=features_numerical, index=Xx_num.index)\n",
    "Xx_num_proc.head() "
   ]
  },
  {
   "cell_type": "markdown",
   "metadata": {},
   "source": [
    "#### Merge our feature sets into one sample dataset Xx and fix NaN values with 0."
   ]
  },
  {
   "cell_type": "code",
   "execution_count": 30,
   "metadata": {},
   "outputs": [
    {
     "data": {
      "text/html": [
       "<div>\n",
       "<style scoped>\n",
       "    .dataframe tbody tr th:only-of-type {\n",
       "        vertical-align: middle;\n",
       "    }\n",
       "\n",
       "    .dataframe tbody tr th {\n",
       "        vertical-align: top;\n",
       "    }\n",
       "\n",
       "    .dataframe thead th {\n",
       "        text-align: right;\n",
       "    }\n",
       "</style>\n",
       "<table border=\"1\" class=\"dataframe\">\n",
       "  <thead>\n",
       "    <tr style=\"text-align: right;\">\n",
       "      <th></th>\n",
       "      <th>loan_amount_000s</th>\n",
       "      <th>applicant_income_000s</th>\n",
       "      <th>x0_Home improvement</th>\n",
       "      <th>x0_Home purchase</th>\n",
       "      <th>x0_Refinancing</th>\n",
       "      <th>x1_Female</th>\n",
       "      <th>x1_Information not provided by applicant in mail, Internet, or telephone application</th>\n",
       "      <th>x1_Male</th>\n",
       "      <th>x1_Not applicable</th>\n",
       "    </tr>\n",
       "  </thead>\n",
       "  <tbody>\n",
       "    <tr>\n",
       "      <th>245939</th>\n",
       "      <td>-0.157392</td>\n",
       "      <td>0.440270</td>\n",
       "      <td>0.0</td>\n",
       "      <td>0.0</td>\n",
       "      <td>1.0</td>\n",
       "      <td>0.0</td>\n",
       "      <td>0.0</td>\n",
       "      <td>1.0</td>\n",
       "      <td>0.0</td>\n",
       "    </tr>\n",
       "    <tr>\n",
       "      <th>245944</th>\n",
       "      <td>-0.125386</td>\n",
       "      <td>-0.115452</td>\n",
       "      <td>0.0</td>\n",
       "      <td>0.0</td>\n",
       "      <td>1.0</td>\n",
       "      <td>0.0</td>\n",
       "      <td>0.0</td>\n",
       "      <td>1.0</td>\n",
       "      <td>0.0</td>\n",
       "    </tr>\n",
       "    <tr>\n",
       "      <th>245949</th>\n",
       "      <td>-0.241217</td>\n",
       "      <td>-0.325725</td>\n",
       "      <td>0.0</td>\n",
       "      <td>0.0</td>\n",
       "      <td>1.0</td>\n",
       "      <td>0.0</td>\n",
       "      <td>0.0</td>\n",
       "      <td>1.0</td>\n",
       "      <td>0.0</td>\n",
       "    </tr>\n",
       "    <tr>\n",
       "      <th>245954</th>\n",
       "      <td>0.212963</td>\n",
       "      <td>0.695602</td>\n",
       "      <td>0.0</td>\n",
       "      <td>0.0</td>\n",
       "      <td>1.0</td>\n",
       "      <td>0.0</td>\n",
       "      <td>0.0</td>\n",
       "      <td>1.0</td>\n",
       "      <td>0.0</td>\n",
       "    </tr>\n",
       "    <tr>\n",
       "      <th>245959</th>\n",
       "      <td>-0.285416</td>\n",
       "      <td>0.000000</td>\n",
       "      <td>1.0</td>\n",
       "      <td>0.0</td>\n",
       "      <td>0.0</td>\n",
       "      <td>0.0</td>\n",
       "      <td>0.0</td>\n",
       "      <td>1.0</td>\n",
       "      <td>0.0</td>\n",
       "    </tr>\n",
       "  </tbody>\n",
       "</table>\n",
       "</div>"
      ],
      "text/plain": [
       "        loan_amount_000s  applicant_income_000s  x0_Home improvement  \\\n",
       "245939         -0.157392               0.440270                  0.0   \n",
       "245944         -0.125386              -0.115452                  0.0   \n",
       "245949         -0.241217              -0.325725                  0.0   \n",
       "245954          0.212963               0.695602                  0.0   \n",
       "245959         -0.285416               0.000000                  1.0   \n",
       "\n",
       "        x0_Home purchase  x0_Refinancing  x1_Female  \\\n",
       "245939               0.0             1.0        0.0   \n",
       "245944               0.0             1.0        0.0   \n",
       "245949               0.0             1.0        0.0   \n",
       "245954               0.0             1.0        0.0   \n",
       "245959               0.0             0.0        0.0   \n",
       "\n",
       "        x1_Information not provided by applicant in mail, Internet, or telephone application  \\\n",
       "245939                                                0.0                                      \n",
       "245944                                                0.0                                      \n",
       "245949                                                0.0                                      \n",
       "245954                                                0.0                                      \n",
       "245959                                                0.0                                      \n",
       "\n",
       "        x1_Male  x1_Not applicable  \n",
       "245939      1.0                0.0  \n",
       "245944      1.0                0.0  \n",
       "245949      1.0                0.0  \n",
       "245954      1.0                0.0  \n",
       "245959      1.0                0.0  "
      ]
     },
     "execution_count": 30,
     "metadata": {},
     "output_type": "execute_result"
    }
   ],
   "source": [
    "Xx = pd.concat([Xx_num_proc, Xx_cat_proc], axis=1, sort=False) #there are NaN values which can be replaced with 0.\n",
    "Xx = Xx.fillna(0) # remove NaN values\n",
    "Xx.head()"
   ]
  },
  {
   "cell_type": "code",
   "execution_count": 31,
   "metadata": {},
   "outputs": [
    {
     "name": "stdout",
     "output_type": "stream",
     "text": [
      "(120760, 26) (120760, 9)\n"
     ]
    }
   ],
   "source": [
    "print(dfX.shape, Xx.shape)"
   ]
  },
  {
   "cell_type": "markdown",
   "metadata": {},
   "source": [
    "### Task 4.B: Below, retry training and evaluating a Logistic regression model on the updated data.\n",
    "_show your work below_"
   ]
  },
  {
   "cell_type": "code",
   "execution_count": 32,
   "metadata": {},
   "outputs": [],
   "source": [
    "z = Xo['loan_approved']"
   ]
  },
  {
   "cell_type": "code",
   "execution_count": 33,
   "metadata": {},
   "outputs": [
    {
     "name": "stdout",
     "output_type": "stream",
     "text": [
      "(84532, 9) (18114, 9) (18114, 9)\n"
     ]
    }
   ],
   "source": [
    "Xx_train, Xx_TEMP, z_train, z_TEMP = train_test_split(Xx, z, test_size=0.30) # split out into training 70% of our data\n",
    "Xx_validation, Xx_test, z_validation, z_test = train_test_split(Xx_TEMP, z_TEMP, test_size=0.50) # split out into validation 15% of our data and test 15% of our data\n",
    "print(Xx_train.shape, Xx_validation.shape, Xx_test.shape) # print data shape to check the sizing is correct"
   ]
  },
  {
   "cell_type": "code",
   "execution_count": 34,
   "metadata": {},
   "outputs": [],
   "source": [
    "# helper method to print basic model metrics\n",
    "def metrics(z_true, z_pred):\n",
    "    print('Confusion matrix:\\n', confusion_matrix(z_true, z_pred))\n",
    "    print('\\nReport:\\n', classification_report(z_true, z_pred))"
   ]
  },
  {
   "cell_type": "code",
   "execution_count": 35,
   "metadata": {},
   "outputs": [
    {
     "name": "stdout",
     "output_type": "stream",
     "text": [
      "Confusion matrix:\n",
      " [[7056 2042]\n",
      " [4304 4712]]\n",
      "\n",
      "Report:\n",
      "               precision    recall  f1-score   support\n",
      "\n",
      "           0       0.62      0.78      0.69      9098\n",
      "           1       0.70      0.52      0.60      9016\n",
      "\n",
      "   micro avg       0.65      0.65      0.65     18114\n",
      "   macro avg       0.66      0.65      0.64     18114\n",
      "weighted avg       0.66      0.65      0.64     18114\n",
      "\n"
     ]
    }
   ],
   "source": [
    "model = LogisticRegression(solver='lbfgs').fit(Xx_train, z_train) # first fit (train) the model\n",
    "z_pred = model.predict(Xx_validation) # next get the model's predictions for a sample in the validation set\n",
    "metrics(z_validation, z_pred) # finally evaluate performance"
   ]
  },
  {
   "cell_type": "markdown",
   "metadata": {},
   "source": [
    "### Baseline acheived after Logistic Regression"
   ]
  },
  {
   "cell_type": "code",
   "execution_count": 36,
   "metadata": {},
   "outputs": [
    {
     "name": "stdout",
     "output_type": "stream",
     "text": [
      "Confusion matrix:\n",
      " [[   0 9098]\n",
      " [   0 9016]]\n",
      "\n",
      "Report:\n",
      "               precision    recall  f1-score   support\n",
      "\n",
      "           0       0.00      0.00      0.00      9098\n",
      "           1       0.50      1.00      0.66      9016\n",
      "\n",
      "   micro avg       0.50      0.50      0.50     18114\n",
      "   macro avg       0.25      0.50      0.33     18114\n",
      "weighted avg       0.25      0.50      0.33     18114\n",
      "\n"
     ]
    },
    {
     "name": "stderr",
     "output_type": "stream",
     "text": [
      "/anaconda3/lib/python3.7/site-packages/sklearn/metrics/classification.py:1143: UndefinedMetricWarning: Precision and F-score are ill-defined and being set to 0.0 in labels with no predicted samples.\n",
      "  'precision', 'predicted', average, warn_for)\n"
     ]
    }
   ],
   "source": [
    "approve_everyone = DummyClassifier(strategy='constant', constant = 1).fit(Xx_train, z_train) # first fit (train) the model\n",
    "z_pred_dummy = approve_everyone.predict(Xx_validation) # next get the model's predictions for a sample in the validation set\n",
    "metrics(z_validation, z_pred_dummy) # finally evaluate performance"
   ]
  },
  {
   "cell_type": "markdown",
   "metadata": {},
   "source": [
    "### Task 4.C: Use your own imagination and experimentation to improve predictive performance for this task, modifying the model choices, feature choices, and data processing however you wish.\n",
    "_Important! Your ability to improve the model above the baseline after Task 4.B will count for 10% of this assignment grade, with 5% of that given for modest improvements to performance. Thus while we encourage you to experiment, do not sink excessive time into this task. We will test the performance on our own holdout dataset._\n",
    "\n",
    "_show your work below_"
   ]
  },
  {
   "cell_type": "markdown",
   "metadata": {},
   "source": [
    "#### Checking correlation between different columns by creating a correlation matrix"
   ]
  },
  {
   "cell_type": "code",
   "execution_count": 37,
   "metadata": {},
   "outputs": [
    {
     "data": {
      "text/html": [
       "<style  type=\"text/css\" >\n",
       "    #T_8882dc8a_d2b6_11e9_94e5_3af9d376a656row0_col0 {\n",
       "            background-color:  #b40426;\n",
       "            color:  #f1f1f1;\n",
       "        }    #T_8882dc8a_d2b6_11e9_94e5_3af9d376a656row0_col1 {\n",
       "            background-color:  #3b4cc0;\n",
       "            color:  #f1f1f1;\n",
       "        }    #T_8882dc8a_d2b6_11e9_94e5_3af9d376a656row0_col2 {\n",
       "            background-color:  #6485ec;\n",
       "            color:  #000000;\n",
       "        }    #T_8882dc8a_d2b6_11e9_94e5_3af9d376a656row0_col3 {\n",
       "            background-color:  #4f69d9;\n",
       "            color:  #000000;\n",
       "        }    #T_8882dc8a_d2b6_11e9_94e5_3af9d376a656row0_col4 {\n",
       "            background-color:  #3b4cc0;\n",
       "            color:  #f1f1f1;\n",
       "        }    #T_8882dc8a_d2b6_11e9_94e5_3af9d376a656row1_col0 {\n",
       "            background-color:  #5b7ae5;\n",
       "            color:  #000000;\n",
       "        }    #T_8882dc8a_d2b6_11e9_94e5_3af9d376a656row1_col1 {\n",
       "            background-color:  #b40426;\n",
       "            color:  #f1f1f1;\n",
       "        }    #T_8882dc8a_d2b6_11e9_94e5_3af9d376a656row1_col2 {\n",
       "            background-color:  #3b4cc0;\n",
       "            color:  #f1f1f1;\n",
       "        }    #T_8882dc8a_d2b6_11e9_94e5_3af9d376a656row1_col3 {\n",
       "            background-color:  #3b4cc0;\n",
       "            color:  #f1f1f1;\n",
       "        }    #T_8882dc8a_d2b6_11e9_94e5_3af9d376a656row1_col4 {\n",
       "            background-color:  #5d7ce6;\n",
       "            color:  #000000;\n",
       "        }    #T_8882dc8a_d2b6_11e9_94e5_3af9d376a656row2_col0 {\n",
       "            background-color:  #85a8fc;\n",
       "            color:  #000000;\n",
       "        }    #T_8882dc8a_d2b6_11e9_94e5_3af9d376a656row2_col1 {\n",
       "            background-color:  #3b4cc0;\n",
       "            color:  #f1f1f1;\n",
       "        }    #T_8882dc8a_d2b6_11e9_94e5_3af9d376a656row2_col2 {\n",
       "            background-color:  #b40426;\n",
       "            color:  #f1f1f1;\n",
       "        }    #T_8882dc8a_d2b6_11e9_94e5_3af9d376a656row2_col3 {\n",
       "            background-color:  #4257c9;\n",
       "            color:  #f1f1f1;\n",
       "        }    #T_8882dc8a_d2b6_11e9_94e5_3af9d376a656row2_col4 {\n",
       "            background-color:  #5f7fe8;\n",
       "            color:  #000000;\n",
       "        }    #T_8882dc8a_d2b6_11e9_94e5_3af9d376a656row3_col0 {\n",
       "            background-color:  #7295f4;\n",
       "            color:  #000000;\n",
       "        }    #T_8882dc8a_d2b6_11e9_94e5_3af9d376a656row3_col1 {\n",
       "            background-color:  #3b4cc0;\n",
       "            color:  #f1f1f1;\n",
       "        }    #T_8882dc8a_d2b6_11e9_94e5_3af9d376a656row3_col2 {\n",
       "            background-color:  #4358cb;\n",
       "            color:  #f1f1f1;\n",
       "        }    #T_8882dc8a_d2b6_11e9_94e5_3af9d376a656row3_col3 {\n",
       "            background-color:  #b40426;\n",
       "            color:  #f1f1f1;\n",
       "        }    #T_8882dc8a_d2b6_11e9_94e5_3af9d376a656row3_col4 {\n",
       "            background-color:  #6384eb;\n",
       "            color:  #000000;\n",
       "        }    #T_8882dc8a_d2b6_11e9_94e5_3af9d376a656row4_col0 {\n",
       "            background-color:  #3b4cc0;\n",
       "            color:  #f1f1f1;\n",
       "        }    #T_8882dc8a_d2b6_11e9_94e5_3af9d376a656row4_col1 {\n",
       "            background-color:  #3b4cc0;\n",
       "            color:  #f1f1f1;\n",
       "        }    #T_8882dc8a_d2b6_11e9_94e5_3af9d376a656row4_col2 {\n",
       "            background-color:  #3e51c5;\n",
       "            color:  #f1f1f1;\n",
       "        }    #T_8882dc8a_d2b6_11e9_94e5_3af9d376a656row4_col3 {\n",
       "            background-color:  #4055c8;\n",
       "            color:  #f1f1f1;\n",
       "        }    #T_8882dc8a_d2b6_11e9_94e5_3af9d376a656row4_col4 {\n",
       "            background-color:  #b40426;\n",
       "            color:  #f1f1f1;\n",
       "        }</style><table id=\"T_8882dc8a_d2b6_11e9_94e5_3af9d376a656\" ><thead>    <tr>        <th class=\"blank level0\" ></th>        <th class=\"col_heading level0 col0\" >applicant_income_000s</th>        <th class=\"col_heading level0 col1\" >is_hoepa_loan</th>        <th class=\"col_heading level0 col2\" >loan_amount_000s</th>        <th class=\"col_heading level0 col3\" >loan_approved</th>        <th class=\"col_heading level0 col4\" >occupied_by_owner</th>    </tr></thead><tbody>\n",
       "                <tr>\n",
       "                        <th id=\"T_8882dc8a_d2b6_11e9_94e5_3af9d376a656level0_row0\" class=\"row_heading level0 row0\" >applicant_income_000s</th>\n",
       "                        <td id=\"T_8882dc8a_d2b6_11e9_94e5_3af9d376a656row0_col0\" class=\"data row0 col0\" >1</td>\n",
       "                        <td id=\"T_8882dc8a_d2b6_11e9_94e5_3af9d376a656row0_col1\" class=\"data row0 col1\" >-0.000419387</td>\n",
       "                        <td id=\"T_8882dc8a_d2b6_11e9_94e5_3af9d376a656row0_col2\" class=\"data row0 col2\" >0.133351</td>\n",
       "                        <td id=\"T_8882dc8a_d2b6_11e9_94e5_3af9d376a656row0_col3\" class=\"data row0 col3\" >0.0712944</td>\n",
       "                        <td id=\"T_8882dc8a_d2b6_11e9_94e5_3af9d376a656row0_col4\" class=\"data row0 col4\" >-0.121934</td>\n",
       "            </tr>\n",
       "            <tr>\n",
       "                        <th id=\"T_8882dc8a_d2b6_11e9_94e5_3af9d376a656level0_row1\" class=\"row_heading level0 row1\" >is_hoepa_loan</th>\n",
       "                        <td id=\"T_8882dc8a_d2b6_11e9_94e5_3af9d376a656row1_col0\" class=\"data row1 col0\" >-0.000419387</td>\n",
       "                        <td id=\"T_8882dc8a_d2b6_11e9_94e5_3af9d376a656row1_col1\" class=\"data row1 col1\" >1</td>\n",
       "                        <td id=\"T_8882dc8a_d2b6_11e9_94e5_3af9d376a656row1_col2\" class=\"data row1 col2\" >-0.000373977</td>\n",
       "                        <td id=\"T_8882dc8a_d2b6_11e9_94e5_3af9d376a656row1_col3\" class=\"data row1 col3\" >0.00287767</td>\n",
       "                        <td id=\"T_8882dc8a_d2b6_11e9_94e5_3af9d376a656row1_col4\" class=\"data row1 col4\" >0.000896384</td>\n",
       "            </tr>\n",
       "            <tr>\n",
       "                        <th id=\"T_8882dc8a_d2b6_11e9_94e5_3af9d376a656level0_row2\" class=\"row_heading level0 row2\" >loan_amount_000s</th>\n",
       "                        <td id=\"T_8882dc8a_d2b6_11e9_94e5_3af9d376a656row2_col0\" class=\"data row2 col0\" >0.133351</td>\n",
       "                        <td id=\"T_8882dc8a_d2b6_11e9_94e5_3af9d376a656row2_col1\" class=\"data row2 col1\" >-0.000373977</td>\n",
       "                        <td id=\"T_8882dc8a_d2b6_11e9_94e5_3af9d376a656row2_col2\" class=\"data row2 col2\" >1</td>\n",
       "                        <td id=\"T_8882dc8a_d2b6_11e9_94e5_3af9d376a656row2_col3\" class=\"data row2 col3\" >0.0274694</td>\n",
       "                        <td id=\"T_8882dc8a_d2b6_11e9_94e5_3af9d376a656row2_col4\" class=\"data row2 col4\" >0.0138766</td>\n",
       "            </tr>\n",
       "            <tr>\n",
       "                        <th id=\"T_8882dc8a_d2b6_11e9_94e5_3af9d376a656level0_row3\" class=\"row_heading level0 row3\" >loan_approved</th>\n",
       "                        <td id=\"T_8882dc8a_d2b6_11e9_94e5_3af9d376a656row3_col0\" class=\"data row3 col0\" >0.0712944</td>\n",
       "                        <td id=\"T_8882dc8a_d2b6_11e9_94e5_3af9d376a656row3_col1\" class=\"data row3 col1\" >0.00287767</td>\n",
       "                        <td id=\"T_8882dc8a_d2b6_11e9_94e5_3af9d376a656row3_col2\" class=\"data row3 col2\" >0.0274694</td>\n",
       "                        <td id=\"T_8882dc8a_d2b6_11e9_94e5_3af9d376a656row3_col3\" class=\"data row3 col3\" >1</td>\n",
       "                        <td id=\"T_8882dc8a_d2b6_11e9_94e5_3af9d376a656row3_col4\" class=\"data row3 col4\" >0.0234767</td>\n",
       "            </tr>\n",
       "            <tr>\n",
       "                        <th id=\"T_8882dc8a_d2b6_11e9_94e5_3af9d376a656level0_row4\" class=\"row_heading level0 row4\" >occupied_by_owner</th>\n",
       "                        <td id=\"T_8882dc8a_d2b6_11e9_94e5_3af9d376a656row4_col0\" class=\"data row4 col0\" >-0.121934</td>\n",
       "                        <td id=\"T_8882dc8a_d2b6_11e9_94e5_3af9d376a656row4_col1\" class=\"data row4 col1\" >0.000896384</td>\n",
       "                        <td id=\"T_8882dc8a_d2b6_11e9_94e5_3af9d376a656row4_col2\" class=\"data row4 col2\" >0.0138766</td>\n",
       "                        <td id=\"T_8882dc8a_d2b6_11e9_94e5_3af9d376a656row4_col3\" class=\"data row4 col3\" >0.0234767</td>\n",
       "                        <td id=\"T_8882dc8a_d2b6_11e9_94e5_3af9d376a656row4_col4\" class=\"data row4 col4\" >1</td>\n",
       "            </tr>\n",
       "    </tbody></table>"
      ],
      "text/plain": [
       "<pandas.io.formats.style.Styler at 0x1169cc860>"
      ]
     },
     "execution_count": 37,
     "metadata": {},
     "output_type": "execute_result"
    }
   ],
   "source": [
    "corr = Xo.corr()\n",
    "corr.style.background_gradient(cmap='coolwarm')"
   ]
  },
  {
   "cell_type": "markdown",
   "metadata": {},
   "source": [
    "### Method 1: Adding new columns: is_hoepa_loan, occupied_by_owner and running Logistic Regression Classifier\n",
    "#### The Home Ownership and Equity Protection Act, or HOEPA, is a federal law designed to help homeowners avoid being taken advantage of when refinancing or getting a second mortgage.\n",
    "helpful link: https://www.homeownership.org/news/hoepa-regulations-explained/"
   ]
  },
  {
   "cell_type": "code",
   "execution_count": 38,
   "metadata": {},
   "outputs": [
    {
     "data": {
      "text/plain": [
       "array([0, 1])"
      ]
     },
     "execution_count": 38,
     "metadata": {},
     "output_type": "execute_result"
    }
   ],
   "source": [
    "dfX.is_hoepa_loan.unique() "
   ]
  },
  {
   "cell_type": "markdown",
   "metadata": {},
   "source": [
    "#### Another column in the original dataset - occupied_by_owner is an important factor in deciding home loan approval. Owner occupied homes are more likely to be approved for mortgage. Nonowner-occupied, or investment, homes are more likely to result in default than owner-occupied homes. Nonowner-occupied investment properties are a business for the mortgage borrower. As such, they present a higher risk of foreclosure to lenders.\n",
    "related link: https://homeguides.sfgate.com/owneroccupied-home-loan-63172.html"
   ]
  },
  {
   "cell_type": "code",
   "execution_count": 39,
   "metadata": {},
   "outputs": [
    {
     "data": {
      "text/html": [
       "<div>\n",
       "<style scoped>\n",
       "    .dataframe tbody tr th:only-of-type {\n",
       "        vertical-align: middle;\n",
       "    }\n",
       "\n",
       "    .dataframe tbody tr th {\n",
       "        vertical-align: top;\n",
       "    }\n",
       "\n",
       "    .dataframe thead th {\n",
       "        text-align: right;\n",
       "    }\n",
       "</style>\n",
       "<table border=\"1\" class=\"dataframe\">\n",
       "  <thead>\n",
       "    <tr style=\"text-align: right;\">\n",
       "      <th></th>\n",
       "      <th>loan_amount_000s</th>\n",
       "      <th>applicant_income_000s</th>\n",
       "      <th>x0_Home improvement</th>\n",
       "      <th>x0_Home purchase</th>\n",
       "      <th>x0_Refinancing</th>\n",
       "      <th>x1_Female</th>\n",
       "      <th>x1_Information not provided by applicant in mail, Internet, or telephone application</th>\n",
       "      <th>x1_Male</th>\n",
       "      <th>x1_Not applicable</th>\n",
       "      <th>is_hoepa_loan</th>\n",
       "      <th>occupied_by_owner</th>\n",
       "    </tr>\n",
       "  </thead>\n",
       "  <tbody>\n",
       "    <tr>\n",
       "      <th>141505</th>\n",
       "      <td>0.308981</td>\n",
       "      <td>0.275056</td>\n",
       "      <td>0.0</td>\n",
       "      <td>0.0</td>\n",
       "      <td>1.0</td>\n",
       "      <td>0.0</td>\n",
       "      <td>0.0</td>\n",
       "      <td>1.0</td>\n",
       "      <td>0.0</td>\n",
       "      <td>0</td>\n",
       "      <td>1</td>\n",
       "    </tr>\n",
       "    <tr>\n",
       "      <th>149032</th>\n",
       "      <td>-0.171109</td>\n",
       "      <td>-0.528488</td>\n",
       "      <td>0.0</td>\n",
       "      <td>1.0</td>\n",
       "      <td>0.0</td>\n",
       "      <td>1.0</td>\n",
       "      <td>0.0</td>\n",
       "      <td>0.0</td>\n",
       "      <td>0.0</td>\n",
       "      <td>0</td>\n",
       "      <td>1</td>\n",
       "    </tr>\n",
       "    <tr>\n",
       "      <th>179437</th>\n",
       "      <td>-0.235121</td>\n",
       "      <td>-0.220588</td>\n",
       "      <td>0.0</td>\n",
       "      <td>0.0</td>\n",
       "      <td>1.0</td>\n",
       "      <td>0.0</td>\n",
       "      <td>0.0</td>\n",
       "      <td>1.0</td>\n",
       "      <td>0.0</td>\n",
       "      <td>0</td>\n",
       "      <td>1</td>\n",
       "    </tr>\n",
       "    <tr>\n",
       "      <th>167826</th>\n",
       "      <td>0.545216</td>\n",
       "      <td>0.395212</td>\n",
       "      <td>0.0</td>\n",
       "      <td>1.0</td>\n",
       "      <td>0.0</td>\n",
       "      <td>0.0</td>\n",
       "      <td>0.0</td>\n",
       "      <td>1.0</td>\n",
       "      <td>0.0</td>\n",
       "      <td>0</td>\n",
       "      <td>1</td>\n",
       "    </tr>\n",
       "    <tr>\n",
       "      <th>355003</th>\n",
       "      <td>-0.073567</td>\n",
       "      <td>0.214978</td>\n",
       "      <td>0.0</td>\n",
       "      <td>1.0</td>\n",
       "      <td>0.0</td>\n",
       "      <td>0.0</td>\n",
       "      <td>0.0</td>\n",
       "      <td>1.0</td>\n",
       "      <td>0.0</td>\n",
       "      <td>0</td>\n",
       "      <td>1</td>\n",
       "    </tr>\n",
       "  </tbody>\n",
       "</table>\n",
       "</div>"
      ],
      "text/plain": [
       "        loan_amount_000s  applicant_income_000s  x0_Home improvement  \\\n",
       "141505          0.308981               0.275056                  0.0   \n",
       "149032         -0.171109              -0.528488                  0.0   \n",
       "179437         -0.235121              -0.220588                  0.0   \n",
       "167826          0.545216               0.395212                  0.0   \n",
       "355003         -0.073567               0.214978                  0.0   \n",
       "\n",
       "        x0_Home purchase  x0_Refinancing  x1_Female  \\\n",
       "141505               0.0             1.0        0.0   \n",
       "149032               1.0             0.0        1.0   \n",
       "179437               0.0             1.0        0.0   \n",
       "167826               1.0             0.0        0.0   \n",
       "355003               1.0             0.0        0.0   \n",
       "\n",
       "        x1_Information not provided by applicant in mail, Internet, or telephone application  \\\n",
       "141505                                                0.0                                      \n",
       "149032                                                0.0                                      \n",
       "179437                                                0.0                                      \n",
       "167826                                                0.0                                      \n",
       "355003                                                0.0                                      \n",
       "\n",
       "        x1_Male  x1_Not applicable  is_hoepa_loan  occupied_by_owner  \n",
       "141505      1.0                0.0              0                  1  \n",
       "149032      0.0                0.0              0                  1  \n",
       "179437      1.0                0.0              0                  1  \n",
       "167826      1.0                0.0              0                  1  \n",
       "355003      1.0                0.0              0                  1  "
      ]
     },
     "execution_count": 39,
     "metadata": {},
     "output_type": "execute_result"
    }
   ],
   "source": [
    "new_columns = ['is_hoepa_loan', 'occupied_by_owner'] #create is_hoepa_loan dataframe and occupied_by_owner\n",
    "dfX.reset_index()\n",
    "\n",
    "X1_new_columns = dfX[new_columns]\n",
    "\n",
    "X1 = pd.concat([Xx, X1_new_columns], axis=1, sort=False) #there are NaN values which can be replaced with 0.\n",
    "X1 = X1.fillna(0) # remove NaN values\n",
    "X1.tail() "
   ]
  },
  {
   "cell_type": "code",
   "execution_count": 40,
   "metadata": {},
   "outputs": [
    {
     "name": "stdout",
     "output_type": "stream",
     "text": [
      "(120760, 26) (120760, 11)\n",
      "(120760, 2) (120760, 2) (120760, 7)\n"
     ]
    }
   ],
   "source": [
    "print(dfX.shape, X1.shape)\n",
    "print(X1_new_columns.shape, Xx_num_proc.shape, Xx_cat_proc.shape)"
   ]
  },
  {
   "cell_type": "markdown",
   "metadata": {},
   "source": [
    "#### Train and evaluate the logistic regression"
   ]
  },
  {
   "cell_type": "code",
   "execution_count": 41,
   "metadata": {},
   "outputs": [
    {
     "name": "stdout",
     "output_type": "stream",
     "text": [
      "(84532, 11) (18114, 11) (18114, 11)\n"
     ]
    }
   ],
   "source": [
    "X1_train, X1_TEMP, z_train, z_TEMP = train_test_split(X1, z, test_size=0.30) # split out into training 70% of our data\n",
    "X1_validation, X1_test, z_validation, z_test = train_test_split(X1_TEMP, z_TEMP, test_size=0.50) # split out into validation 15% of our data and test 15% of our data\n",
    "print(X1_train.shape, X1_validation.shape, X1_test.shape) # print data shape to check the sizing is correct"
   ]
  },
  {
   "cell_type": "code",
   "execution_count": 42,
   "metadata": {},
   "outputs": [],
   "source": [
    "# helper method to print basic model metrics\n",
    "def metrics(z_true, z_pred):\n",
    "    print('Confusion matrix:\\n', confusion_matrix(z_true, z_pred))\n",
    "    print('\\nReport:\\n', classification_report(z_true, z_pred))"
   ]
  },
  {
   "cell_type": "code",
   "execution_count": 43,
   "metadata": {},
   "outputs": [
    {
     "name": "stdout",
     "output_type": "stream",
     "text": [
      "Confusion matrix:\n",
      " [[7068 1956]\n",
      " [4272 4818]]\n",
      "\n",
      "Report:\n",
      "               precision    recall  f1-score   support\n",
      "\n",
      "           0       0.62      0.78      0.69      9024\n",
      "           1       0.71      0.53      0.61      9090\n",
      "\n",
      "   micro avg       0.66      0.66      0.66     18114\n",
      "   macro avg       0.67      0.66      0.65     18114\n",
      "weighted avg       0.67      0.66      0.65     18114\n",
      "\n"
     ]
    }
   ],
   "source": [
    "model = LogisticRegression(solver='lbfgs').fit(X1_train, z_train) # first fit (train) the model\n",
    "z_pred = model.predict(X1_validation) # next get the model's predictions for a sample in the validation set\n",
    "metrics(z_validation, z_pred) # finally evaluate performance"
   ]
  },
  {
   "cell_type": "markdown",
   "metadata": {},
   "source": [
    "### Inference: Improvement over baseline: not too much"
   ]
  },
  {
   "cell_type": "markdown",
   "metadata": {},
   "source": [
    "### Method 2: drop gender information and use Logistic Regression Classifier"
   ]
  },
  {
   "cell_type": "code",
   "execution_count": 44,
   "metadata": {},
   "outputs": [
    {
     "data": {
      "text/html": [
       "<div>\n",
       "<style scoped>\n",
       "    .dataframe tbody tr th:only-of-type {\n",
       "        vertical-align: middle;\n",
       "    }\n",
       "\n",
       "    .dataframe tbody tr th {\n",
       "        vertical-align: top;\n",
       "    }\n",
       "\n",
       "    .dataframe thead th {\n",
       "        text-align: right;\n",
       "    }\n",
       "</style>\n",
       "<table border=\"1\" class=\"dataframe\">\n",
       "  <thead>\n",
       "    <tr style=\"text-align: right;\">\n",
       "      <th></th>\n",
       "      <th>loan_amount_000s</th>\n",
       "      <th>applicant_income_000s</th>\n",
       "      <th>x0_Home improvement</th>\n",
       "      <th>x0_Home purchase</th>\n",
       "      <th>x0_Refinancing</th>\n",
       "      <th>is_hoepa_loan</th>\n",
       "      <th>occupied_by_owner</th>\n",
       "    </tr>\n",
       "  </thead>\n",
       "  <tbody>\n",
       "    <tr>\n",
       "      <th>245939</th>\n",
       "      <td>-0.157392</td>\n",
       "      <td>0.440270</td>\n",
       "      <td>0.0</td>\n",
       "      <td>0.0</td>\n",
       "      <td>1.0</td>\n",
       "      <td>0</td>\n",
       "      <td>1</td>\n",
       "    </tr>\n",
       "    <tr>\n",
       "      <th>245944</th>\n",
       "      <td>-0.125386</td>\n",
       "      <td>-0.115452</td>\n",
       "      <td>0.0</td>\n",
       "      <td>0.0</td>\n",
       "      <td>1.0</td>\n",
       "      <td>0</td>\n",
       "      <td>1</td>\n",
       "    </tr>\n",
       "    <tr>\n",
       "      <th>245949</th>\n",
       "      <td>-0.241217</td>\n",
       "      <td>-0.325725</td>\n",
       "      <td>0.0</td>\n",
       "      <td>0.0</td>\n",
       "      <td>1.0</td>\n",
       "      <td>0</td>\n",
       "      <td>1</td>\n",
       "    </tr>\n",
       "    <tr>\n",
       "      <th>245954</th>\n",
       "      <td>0.212963</td>\n",
       "      <td>0.695602</td>\n",
       "      <td>0.0</td>\n",
       "      <td>0.0</td>\n",
       "      <td>1.0</td>\n",
       "      <td>0</td>\n",
       "      <td>1</td>\n",
       "    </tr>\n",
       "    <tr>\n",
       "      <th>245959</th>\n",
       "      <td>-0.285416</td>\n",
       "      <td>0.000000</td>\n",
       "      <td>1.0</td>\n",
       "      <td>0.0</td>\n",
       "      <td>0.0</td>\n",
       "      <td>0</td>\n",
       "      <td>0</td>\n",
       "    </tr>\n",
       "  </tbody>\n",
       "</table>\n",
       "</div>"
      ],
      "text/plain": [
       "        loan_amount_000s  applicant_income_000s  x0_Home improvement  \\\n",
       "245939         -0.157392               0.440270                  0.0   \n",
       "245944         -0.125386              -0.115452                  0.0   \n",
       "245949         -0.241217              -0.325725                  0.0   \n",
       "245954          0.212963               0.695602                  0.0   \n",
       "245959         -0.285416               0.000000                  1.0   \n",
       "\n",
       "        x0_Home purchase  x0_Refinancing  is_hoepa_loan  occupied_by_owner  \n",
       "245939               0.0             1.0              0                  1  \n",
       "245944               0.0             1.0              0                  1  \n",
       "245949               0.0             1.0              0                  1  \n",
       "245954               0.0             1.0              0                  1  \n",
       "245959               0.0             0.0              0                  0  "
      ]
     },
     "execution_count": 44,
     "metadata": {},
     "output_type": "execute_result"
    }
   ],
   "source": [
    "X2 = X1[['loan_amount_000s', 'applicant_income_000s', 'x0_Home improvement', 'x0_Home purchase', 'x0_Refinancing', 'is_hoepa_loan', 'occupied_by_owner']] \n",
    "X2.head()"
   ]
  },
  {
   "cell_type": "markdown",
   "metadata": {},
   "source": [
    "#### Train and evaluate Logistic Regression"
   ]
  },
  {
   "cell_type": "code",
   "execution_count": 45,
   "metadata": {},
   "outputs": [
    {
     "name": "stdout",
     "output_type": "stream",
     "text": [
      "(84532, 7) (18114, 7) (18114, 7)\n"
     ]
    }
   ],
   "source": [
    "X2_train, X2_TEMP, z_train, z_TEMP = train_test_split(X2, z, test_size=0.30) # split out into training 70% of our data\n",
    "X2_validation, X2_test, z_validation, z_test = train_test_split(X2_TEMP, z_TEMP, test_size=0.50) # split out into validation 15% of our data and test 15% of our data\n",
    "print(X2_train.shape, X2_validation.shape, X2_test.shape) # print data shape to check the sizing is correct"
   ]
  },
  {
   "cell_type": "code",
   "execution_count": 46,
   "metadata": {},
   "outputs": [],
   "source": [
    "# helper method to print basic model metrics\n",
    "def metrics(z_true, z_pred):\n",
    "    print('Confusion matrix:\\n', confusion_matrix(z_true, z_pred))\n",
    "    print('\\nReport:\\n', classification_report(z_true, z_pred))"
   ]
  },
  {
   "cell_type": "code",
   "execution_count": 47,
   "metadata": {},
   "outputs": [
    {
     "name": "stdout",
     "output_type": "stream",
     "text": [
      "Confusion matrix:\n",
      " [[7081 1976]\n",
      " [4645 4412]]\n",
      "\n",
      "Report:\n",
      "               precision    recall  f1-score   support\n",
      "\n",
      "           0       0.60      0.78      0.68      9057\n",
      "           1       0.69      0.49      0.57      9057\n",
      "\n",
      "   micro avg       0.63      0.63      0.63     18114\n",
      "   macro avg       0.65      0.63      0.63     18114\n",
      "weighted avg       0.65      0.63      0.63     18114\n",
      "\n"
     ]
    }
   ],
   "source": [
    "model = LogisticRegression(solver='lbfgs').fit(X2_train, z_train) # first fit (train) the model\n",
    "z_pred = model.predict(X2_validation) # next get the model's predictions for a sample in the validation set\n",
    "metrics(z_validation, z_pred) # finally evaluate performance"
   ]
  },
  {
   "cell_type": "markdown",
   "metadata": {},
   "source": [
    "### Inference: Improvement over baseline: not too much"
   ]
  },
  {
   "cell_type": "markdown",
   "metadata": {},
   "source": [
    "### Method 3: Use Naive Bayes Classifier"
   ]
  },
  {
   "cell_type": "code",
   "execution_count": 48,
   "metadata": {},
   "outputs": [],
   "source": [
    "from sklearn.naive_bayes import GaussianNB\n",
    "model = GaussianNB()"
   ]
  },
  {
   "cell_type": "code",
   "execution_count": 49,
   "metadata": {},
   "outputs": [],
   "source": [
    "def metrics(z_true, z_pred):\n",
    "    print('Confusion matrix:\\n', confusion_matrix(z_true, z_pred))\n",
    "    print('\\nReport:\\n', classification_report(z_true, z_pred))"
   ]
  },
  {
   "cell_type": "code",
   "execution_count": 50,
   "metadata": {},
   "outputs": [
    {
     "name": "stdout",
     "output_type": "stream",
     "text": [
      "Confusion matrix:\n",
      " [[9047   10]\n",
      " [9051    6]]\n",
      "\n",
      "Report:\n",
      "               precision    recall  f1-score   support\n",
      "\n",
      "           0       0.50      1.00      0.67      9057\n",
      "           1       0.38      0.00      0.00      9057\n",
      "\n",
      "   micro avg       0.50      0.50      0.50     18114\n",
      "   macro avg       0.44      0.50      0.33     18114\n",
      "weighted avg       0.44      0.50      0.33     18114\n",
      "\n"
     ]
    }
   ],
   "source": [
    "# Train the model using the training sets\n",
    "model = GaussianNB().fit(X1_train, z_train)\n",
    "\n",
    "#Predict Output\n",
    "z_pred = model.predict(X1_validation) # next get the model's predictions for a sample in the validation set\n",
    "metrics(z_validation, z_pred) # finally evaluate performance\n",
    "# predicted= model.predict([[0,2]]) # 0:Overcast, 2:Mild\n",
    "# print \"Predicted Value:\", predicted"
   ]
  },
  {
   "cell_type": "markdown",
   "metadata": {},
   "source": [
    "### Inference: Improvement over baseline: baseline deteriorated"
   ]
  },
  {
   "cell_type": "markdown",
   "metadata": {},
   "source": [
    "### Method 4: Random Forest Classifier"
   ]
  },
  {
   "cell_type": "code",
   "execution_count": 51,
   "metadata": {},
   "outputs": [],
   "source": [
    "from sklearn.ensemble import RandomForestClassifier\n",
    "from sklearn.datasets import make_classification"
   ]
  },
  {
   "cell_type": "code",
   "execution_count": 52,
   "metadata": {},
   "outputs": [],
   "source": [
    "def metrics(z_true, z_pred):\n",
    "    print('Confusion matrix:\\n', confusion_matrix(z_true, z_pred))\n",
    "    print('\\nReport:\\n', classification_report(z_true, z_pred))"
   ]
  },
  {
   "cell_type": "code",
   "execution_count": 53,
   "metadata": {},
   "outputs": [
    {
     "name": "stdout",
     "output_type": "stream",
     "text": [
      "Confusion matrix:\n",
      " [[4484 4573]\n",
      " [4468 4589]]\n",
      "\n",
      "Report:\n",
      "               precision    recall  f1-score   support\n",
      "\n",
      "           0       0.50      0.50      0.50      9057\n",
      "           1       0.50      0.51      0.50      9057\n",
      "\n",
      "   micro avg       0.50      0.50      0.50     18114\n",
      "   macro avg       0.50      0.50      0.50     18114\n",
      "weighted avg       0.50      0.50      0.50     18114\n",
      "\n"
     ]
    }
   ],
   "source": [
    "model = RandomForestClassifier(n_estimators=100, max_depth=10, random_state=0).fit(X1_train, z_train) # first fit (train) the model\n",
    "z_pred = model.predict(X1_validation) # next get the model's predictions for a sample in the validation set\n",
    "metrics(z_validation, z_pred) # finally evaluate performance"
   ]
  },
  {
   "cell_type": "markdown",
   "metadata": {},
   "source": [
    "### Inference: I don't know why my model is performing this way"
   ]
  },
  {
   "cell_type": "markdown",
   "metadata": {},
   "source": [
    "### Method 5: KNeighbour Classifier\n",
    "#### Trying another classifier in an attempt to improve the baseline, see no improvement"
   ]
  },
  {
   "cell_type": "code",
   "execution_count": 54,
   "metadata": {},
   "outputs": [
    {
     "name": "stdout",
     "output_type": "stream",
     "text": [
      "Confusion matrix:\n",
      " [[5197 3860]\n",
      " [5163 3894]]\n",
      "\n",
      "Report:\n",
      "               precision    recall  f1-score   support\n",
      "\n",
      "           0       0.50      0.57      0.54      9057\n",
      "           1       0.50      0.43      0.46      9057\n",
      "\n",
      "   micro avg       0.50      0.50      0.50     18114\n",
      "   macro avg       0.50      0.50      0.50     18114\n",
      "weighted avg       0.50      0.50      0.50     18114\n",
      "\n"
     ]
    }
   ],
   "source": [
    "from sklearn.neighbors import KNeighborsClassifier\n",
    "model = KNeighborsClassifier(n_neighbors=10).fit(X1, z) \n",
    "z_pred = model.predict(X1_validation) # next get the model's predictions for a sample in the validation set\n",
    "metrics(z_validation, z_pred) # finally evaluate performance"
   ]
  }
 ],
 "metadata": {
  "kernelspec": {
   "display_name": "Python 3",
   "language": "python",
   "name": "python3"
  },
  "language_info": {
   "codemirror_mode": {
    "name": "ipython",
    "version": 3
   },
   "file_extension": ".py",
   "mimetype": "text/x-python",
   "name": "python",
   "nbconvert_exporter": "python",
   "pygments_lexer": "ipython3",
   "version": "3.7.3"
  },
  "toc": {
   "base_numbering": 1,
   "nav_menu": {},
   "number_sections": false,
   "sideBar": false,
   "skip_h1_title": false,
   "title_cell": "Table of Contents",
   "title_sidebar": "Contents",
   "toc_cell": false,
   "toc_position": {},
   "toc_section_display": false,
   "toc_window_display": false
  }
 },
 "nbformat": 4,
 "nbformat_minor": 2
}
