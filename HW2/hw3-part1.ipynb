{
 "cells": [
  {
   "cell_type": "markdown",
   "metadata": {},
   "source": [
    "# A CDC Halloween 🎃 Explore and Visualize\n",
    "<p>Harshika Jain<br>\n",
    "Human AI Interaction HW3 Part 1<br>\n",
    "Professors: Chinmay Kulkarni, Mary Beth Kery</p>\n",
    "<hr>"
   ]
  },
  {
   "cell_type": "markdown",
   "metadata": {},
   "source": [
    "<h2>Brief</h2>\n",
    "<p>The Center for Disease Control and Prevention (CDC) is a federal public health and safety agency of the United States. This is an exploration of their public death dataset which records cause-of-death of everyone deceased in the United States. The CDC’s goal is to raise public awareness of health, so the dataset will only include deaths by natural causes or accidents, to help current residents of the country take better precautions about their own health.</p>"
   ]
  },
  {
   "cell_type": "code",
   "execution_count": 204,
   "metadata": {},
   "outputs": [],
   "source": [
    "# import widgets for jupyternotebook\n",
    "from __future__ import print_function\n",
    "from ipywidgets import interact, interactive, fixed, interact_manual, IntSlider\n",
    "import ipywidgets as widgets\n",
    "from IPython.display import display\n",
    "\n",
    "import pandas as pd\n",
    "import numpy as np\n",
    "import matplotlib.pyplot as plt\n",
    "%matplotlib inline"
   ]
  },
  {
   "cell_type": "code",
   "execution_count": 111,
   "metadata": {},
   "outputs": [
    {
     "data": {
      "text/html": [
       "<div>\n",
       "<style scoped>\n",
       "    .dataframe tbody tr th:only-of-type {\n",
       "        vertical-align: middle;\n",
       "    }\n",
       "\n",
       "    .dataframe tbody tr th {\n",
       "        vertical-align: top;\n",
       "    }\n",
       "\n",
       "    .dataframe thead th {\n",
       "        text-align: right;\n",
       "    }\n",
       "</style>\n",
       "<table border=\"1\" class=\"dataframe\">\n",
       "  <thead>\n",
       "    <tr style=\"text-align: right;\">\n",
       "      <th></th>\n",
       "      <th>Unnamed: 0</th>\n",
       "      <th>age</th>\n",
       "      <th>sex</th>\n",
       "      <th>race</th>\n",
       "      <th>education</th>\n",
       "      <th>month_of_death</th>\n",
       "      <th>day_of_week_of_death</th>\n",
       "      <th>manner</th>\n",
       "      <th>relationship_status</th>\n",
       "      <th>icd_code</th>\n",
       "      <th>cause</th>\n",
       "      <th>group</th>\n",
       "    </tr>\n",
       "  </thead>\n",
       "  <tbody>\n",
       "    <tr>\n",
       "      <th>0</th>\n",
       "      <td>2195403</td>\n",
       "      <td>93</td>\n",
       "      <td>F</td>\n",
       "      <td>White</td>\n",
       "      <td>4.0</td>\n",
       "      <td>3</td>\n",
       "      <td>1</td>\n",
       "      <td>Natural Causes</td>\n",
       "      <td>Widowed</td>\n",
       "      <td>I25</td>\n",
       "      <td>['Chronic ischemic heart disease']</td>\n",
       "      <td>Heart Disease</td>\n",
       "    </tr>\n",
       "    <tr>\n",
       "      <th>1</th>\n",
       "      <td>1585793</td>\n",
       "      <td>90</td>\n",
       "      <td>F</td>\n",
       "      <td>White</td>\n",
       "      <td>4.0</td>\n",
       "      <td>1</td>\n",
       "      <td>5</td>\n",
       "      <td>Natural Causes</td>\n",
       "      <td>Single</td>\n",
       "      <td>J18</td>\n",
       "      <td>['Pneumonia, unspecified organism']</td>\n",
       "      <td>Respiratory Condition</td>\n",
       "    </tr>\n",
       "    <tr>\n",
       "      <th>2</th>\n",
       "      <td>115267</td>\n",
       "      <td>71</td>\n",
       "      <td>F</td>\n",
       "      <td>White</td>\n",
       "      <td>3.0</td>\n",
       "      <td>7</td>\n",
       "      <td>6</td>\n",
       "      <td>Natural Causes</td>\n",
       "      <td>Married</td>\n",
       "      <td>N39</td>\n",
       "      <td>['Other disorders of urinary system']</td>\n",
       "      <td>Bladder Condition</td>\n",
       "    </tr>\n",
       "    <tr>\n",
       "      <th>3</th>\n",
       "      <td>782491</td>\n",
       "      <td>77</td>\n",
       "      <td>F</td>\n",
       "      <td>White</td>\n",
       "      <td>3.0</td>\n",
       "      <td>6</td>\n",
       "      <td>3</td>\n",
       "      <td>Natural Causes</td>\n",
       "      <td>Widowed</td>\n",
       "      <td>C43</td>\n",
       "      <td>['Malignant melanoma of skin']</td>\n",
       "      <td>Cancer</td>\n",
       "    </tr>\n",
       "    <tr>\n",
       "      <th>4</th>\n",
       "      <td>1809783</td>\n",
       "      <td>79</td>\n",
       "      <td>F</td>\n",
       "      <td>White</td>\n",
       "      <td>3.0</td>\n",
       "      <td>2</td>\n",
       "      <td>3</td>\n",
       "      <td>Natural Causes</td>\n",
       "      <td>Widowed</td>\n",
       "      <td>I21</td>\n",
       "      <td>['ST elevation (STEMI) and non-ST elevation (N...</td>\n",
       "      <td>Heart Disease</td>\n",
       "    </tr>\n",
       "  </tbody>\n",
       "</table>\n",
       "</div>"
      ],
      "text/plain": [
       "   Unnamed: 0  age sex   race  education  month_of_death  \\\n",
       "0     2195403   93   F  White        4.0               3   \n",
       "1     1585793   90   F  White        4.0               1   \n",
       "2      115267   71   F  White        3.0               7   \n",
       "3      782491   77   F  White        3.0               6   \n",
       "4     1809783   79   F  White        3.0               2   \n",
       "\n",
       "   day_of_week_of_death          manner relationship_status icd_code  \\\n",
       "0                     1  Natural Causes             Widowed      I25   \n",
       "1                     5  Natural Causes              Single      J18   \n",
       "2                     6  Natural Causes             Married      N39   \n",
       "3                     3  Natural Causes             Widowed      C43   \n",
       "4                     3  Natural Causes             Widowed      I21   \n",
       "\n",
       "                                               cause                  group  \n",
       "0                 ['Chronic ischemic heart disease']          Heart Disease  \n",
       "1                ['Pneumonia, unspecified organism']  Respiratory Condition  \n",
       "2              ['Other disorders of urinary system']      Bladder Condition  \n",
       "3                     ['Malignant melanoma of skin']                 Cancer  \n",
       "4  ['ST elevation (STEMI) and non-ST elevation (N...          Heart Disease  "
      ]
     },
     "execution_count": 111,
     "metadata": {},
     "output_type": "execute_result"
    }
   ],
   "source": [
    "data = pd.read_csv(\"data/death_causes.csv\") # create dataframe\n",
    "data.head()"
   ]
  },
  {
   "cell_type": "code",
   "execution_count": 112,
   "metadata": {},
   "outputs": [
    {
     "data": {
      "text/html": [
       "<div>\n",
       "<style scoped>\n",
       "    .dataframe tbody tr th:only-of-type {\n",
       "        vertical-align: middle;\n",
       "    }\n",
       "\n",
       "    .dataframe tbody tr th {\n",
       "        vertical-align: top;\n",
       "    }\n",
       "\n",
       "    .dataframe thead th {\n",
       "        text-align: right;\n",
       "    }\n",
       "</style>\n",
       "<table border=\"1\" class=\"dataframe\">\n",
       "  <thead>\n",
       "    <tr style=\"text-align: right;\">\n",
       "      <th></th>\n",
       "      <th>Unnamed: 0</th>\n",
       "      <th>age</th>\n",
       "      <th>education</th>\n",
       "      <th>month_of_death</th>\n",
       "      <th>day_of_week_of_death</th>\n",
       "    </tr>\n",
       "  </thead>\n",
       "  <tbody>\n",
       "    <tr>\n",
       "      <th>count</th>\n",
       "      <td>1.000000e+05</td>\n",
       "      <td>100000.00000</td>\n",
       "      <td>100000.000000</td>\n",
       "      <td>100000.000000</td>\n",
       "      <td>100000.000000</td>\n",
       "    </tr>\n",
       "    <tr>\n",
       "      <th>mean</th>\n",
       "      <td>1.458574e+06</td>\n",
       "      <td>74.66835</td>\n",
       "      <td>3.729810</td>\n",
       "      <td>6.326150</td>\n",
       "      <td>4.008460</td>\n",
       "    </tr>\n",
       "    <tr>\n",
       "      <th>std</th>\n",
       "      <td>7.107205e+05</td>\n",
       "      <td>17.08716</td>\n",
       "      <td>1.992116</td>\n",
       "      <td>3.510632</td>\n",
       "      <td>1.998717</td>\n",
       "    </tr>\n",
       "    <tr>\n",
       "      <th>min</th>\n",
       "      <td>7.000000e+00</td>\n",
       "      <td>0.00000</td>\n",
       "      <td>1.000000</td>\n",
       "      <td>1.000000</td>\n",
       "      <td>1.000000</td>\n",
       "    </tr>\n",
       "    <tr>\n",
       "      <th>25%</th>\n",
       "      <td>8.681295e+05</td>\n",
       "      <td>65.00000</td>\n",
       "      <td>3.000000</td>\n",
       "      <td>3.000000</td>\n",
       "      <td>2.000000</td>\n",
       "    </tr>\n",
       "    <tr>\n",
       "      <th>50%</th>\n",
       "      <td>1.491952e+06</td>\n",
       "      <td>78.00000</td>\n",
       "      <td>3.000000</td>\n",
       "      <td>6.000000</td>\n",
       "      <td>4.000000</td>\n",
       "    </tr>\n",
       "    <tr>\n",
       "      <th>75%</th>\n",
       "      <td>2.046388e+06</td>\n",
       "      <td>87.00000</td>\n",
       "      <td>5.000000</td>\n",
       "      <td>9.000000</td>\n",
       "      <td>6.000000</td>\n",
       "    </tr>\n",
       "    <tr>\n",
       "      <th>max</th>\n",
       "      <td>2.718193e+06</td>\n",
       "      <td>111.00000</td>\n",
       "      <td>9.000000</td>\n",
       "      <td>12.000000</td>\n",
       "      <td>9.000000</td>\n",
       "    </tr>\n",
       "  </tbody>\n",
       "</table>\n",
       "</div>"
      ],
      "text/plain": [
       "         Unnamed: 0           age      education  month_of_death  \\\n",
       "count  1.000000e+05  100000.00000  100000.000000   100000.000000   \n",
       "mean   1.458574e+06      74.66835       3.729810        6.326150   \n",
       "std    7.107205e+05      17.08716       1.992116        3.510632   \n",
       "min    7.000000e+00       0.00000       1.000000        1.000000   \n",
       "25%    8.681295e+05      65.00000       3.000000        3.000000   \n",
       "50%    1.491952e+06      78.00000       3.000000        6.000000   \n",
       "75%    2.046388e+06      87.00000       5.000000        9.000000   \n",
       "max    2.718193e+06     111.00000       9.000000       12.000000   \n",
       "\n",
       "       day_of_week_of_death  \n",
       "count         100000.000000  \n",
       "mean               4.008460  \n",
       "std                1.998717  \n",
       "min                1.000000  \n",
       "25%                2.000000  \n",
       "50%                4.000000  \n",
       "75%                6.000000  \n",
       "max                9.000000  "
      ]
     },
     "execution_count": 112,
     "metadata": {},
     "output_type": "execute_result"
    }
   ],
   "source": [
    "data.describe()"
   ]
  },
  {
   "cell_type": "markdown",
   "metadata": {},
   "source": [
    "<h2>Description of the dataset</h2>\n",
    "<p>As given by Mary Beth and Chinmay</p>\n",
    "<table>\n",
    "    <tr>\n",
    "        <th text = \"align:left;\">Column</th>\n",
    "        <th text = \"align:left;\">Description</th>\n",
    "    </tr>\n",
    "    <tr>\n",
    "        <td>id</td>\n",
    "        <td>random numerical id unique to a person</td>\n",
    "    </tr>\n",
    "    <tr>\n",
    "        <td>age</td>\n",
    "        <td>age in years</td>\n",
    "    </tr>\n",
    "    <tr>\n",
    "        <td>sex</td>\n",
    "        <td>sex, restricted to F (female) or M (male), at time of death</td>\n",
    "    </tr>\n",
    "    <tr>\n",
    "        <td>race</td>\n",
    "        <td>Including: ['White', 'Black', 'Korean', 'Vietnamese', 'Indian', 'Native American', 'Hawaiian', 'Chinese', 'Japanese', 'other Asian or Pacific Islander', 'Filipino', 'Samoan','Guamanian']\n",
    "        </td>\n",
    "    </tr>\n",
    "    <tr>\n",
    "        <td>education</td>\n",
    "        <td>1 ... 8th grade or less, 2 ... 9 - 12th grade, no diploma, 3 ... high school graduate or GED completed, 4 ... some college credit, but no degree, 5 ... Associate degree, 6 ... Bachelor’s degree, 7 ... Master’s degree, 8 ... Doctorate or professional degree, 9 ... Unknown<br>\n",
    "        </td>\n",
    "    </tr>\n",
    "    <tr>\n",
    "        <td>month_of_death</td>\n",
    "        <td>numerical value of month</td>\n",
    "    </tr>\n",
    "        <tr>\n",
    "        <td>day_of_week_of_death</td>\n",
    "        <td>1 ... Sunday \n",
    "2 ... Monday \n",
    "3 ... Tuesday \n",
    "4 ... Wednesday \n",
    "5 ... Thursday\n",
    "6 ... Friday \n",
    "7 ... Saturday \n",
    "9 ... Unknown\n",
    "</td>\n",
    "    </tr>\n",
    "        <tr>\n",
    "        <td>manner</td>\n",
    "        <td>either ‘Natural Causes’ or ‘Accident’</td>\n",
    "    </tr>\n",
    "        <tr>\n",
    "        <td>relationship_status</td>\n",
    "        <td>S ... Never married or Single \n",
    "M ... Married \n",
    "W ... Widowed \n",
    "D ... Divorced \n",
    "U ... Unknown\n",
    "</td>\n",
    "    </tr>    \n",
    "    <tr>\n",
    "        <td>icd_code</td>\n",
    "        <td>The exact cause of death as standardized by international medical classification codes. See https://icd.codes/icd10cm for reference</td>\n",
    "    </tr>    \n",
    "    <tr>\n",
    "        <td>cause</td>\n",
    "        <td>The exact cause of death, a text description (when available) of the icd code</td>\n",
    "    </tr>    \n",
    "    <tr>\n",
    "        <td>Group</td>\n",
    "        <td>General category for cause of death, including:\n",
    "['Heart Disease', 'Respiratory Condition', 'Bladder Condition',\n",
    "       'Cancer', 'Stroke', 'Motor Vehicle Accident', 'Seizures',\n",
    "       'Infection', 'Mental or Behavioral', 'Liver Disease',\n",
    "       'Birth Condition', 'Diseases of the nervous system', 'Diabetes',\n",
    "       'Kidney Condition', 'Issues Breathing', 'Asthma',\n",
    "       'Muscle/Bone Condition', 'Medical Care Error', 'Drug Use',\n",
    "       'Accident', 'Fall', 'Congenital Anomalies', 'HIV/AIDS',\n",
    "       'Unkown cause', 'Fire', 'Skin Condition', 'Other',\n",
    "       'Natural Disaster', 'Pregnancy Related', 'Eye Condition',\n",
    "       'Stomach or Bowel Issues', 'Male Reproductive Condition',\n",
    "       'Female Reproductive Condition', 'Military Situation',\n",
    "       'Disturbance of Behavior or Senses', 'Issues with Movement',\n",
    "       'Heat Exposure', 'Urinary Abdominal Issues']\n",
    "</td>\n",
    "    </tr>    \n",
    "</table>\n",
    "<hr>"
   ]
  },
  {
   "cell_type": "markdown",
   "metadata": {},
   "source": [
    "<h2>A. Histogram of death counts by age</h2>\n",
    "<p>Create a histogram of death counts by age. [5 points]<br>\n",
    "Hint: one axis should be sorted continuous range of age 0 up to the age of the oldest person in the dataset<p>"
   ]
  },
  {
   "cell_type": "code",
   "execution_count": 151,
   "metadata": {},
   "outputs": [
    {
     "data": {
      "image/png": "[encoded data removed]",
      "text/plain": [
       "<Figure size 432x288 with 1 Axes>"
      ]
     },
     "metadata": {
      "needs_background": "light"
     },
     "output_type": "display_data"
    }
   ],
   "source": [
    "# age = data[\"age\"]\n",
    "plt.hist(data['age'], bins = 30, color = 'orange', edgecolor = 'white')\n",
    "plt.title('Histogram of Death Counts by Age')\n",
    "plt.xlabel('Age')\n",
    "plt.xticks([0, 10, 20, 30, 40, 50, 60, 70, 80, 90, 100, 110])\n",
    "plt.ylabel('Death Counts')\n",
    "plt.show()"
   ]
  },
  {
   "cell_type": "code",
   "execution_count": 114,
   "metadata": {},
   "outputs": [
    {
     "name": "stdout",
     "output_type": "stream",
     "text": [
      "[  649    52    43    57   146   339   346   526   617   521   791  1076\n",
      "  1628  1929  3524  4720  4205  6409  6900  5824  8133  9349 11295  9150\n",
      " 11189  7206  2256   958   146    16]\n"
     ]
    }
   ],
   "source": [
    "counts, bin_edges = np.histogram(data['age'], bins = 30)\n",
    "print(counts)"
   ]
  },
  {
   "cell_type": "code",
   "execution_count": 115,
   "metadata": {},
   "outputs": [
    {
     "name": "stdout",
     "output_type": "stream",
     "text": [
      "[  0.    3.7   7.4  11.1  14.8  18.5  22.2  25.9  29.6  33.3  37.   40.7\n",
      "  44.4  48.1  51.8  55.5  59.2  62.9  66.6  70.3  74.   77.7  81.4  85.1\n",
      "  88.8  92.5  96.2  99.9 103.6 107.3 111. ]\n"
     ]
    }
   ],
   "source": [
    "print(bin_edges)"
   ]
  },
  {
   "cell_type": "markdown",
   "metadata": {},
   "source": [
    "<h3>Inference: Highest number of deaths(11295) are in the age range of 81.4-85.1 years.</h3>\n",
    "<hr>"
   ]
  },
  {
   "cell_type": "markdown",
   "metadata": {},
   "source": [
    "<h2>B. Histogram of deaths caused by cancer by age</h2>\n",
    "<p>Create a histogram of deaths caused by cancer by age. [8 points]</p>\n",
    "<p>The process followed to plot this graph was to isolate the rows by the cause of death, i.e. cancer in this case and plot a histogram of the ages of the isolated rows.</p>\n",
    "<p>Useful resource reference for selecting rows when a column contains certain values <a href = \"https://chrisalbon.com/python/data_wrangling/pandas_select_rows_when_column_has_certain_values/\">https://chrisalbon.com/python/data_wrangling/pandas_select_rows_when_column_has_certain_values/</p>"
   ]
  },
  {
   "cell_type": "code",
   "execution_count": 116,
   "metadata": {},
   "outputs": [],
   "source": [
    "value_list = ['Cancer']\n",
    "cancer_df = data[data.group.isin(value_list)]"
   ]
  },
  {
   "cell_type": "code",
   "execution_count": 269,
   "metadata": {},
   "outputs": [
    {
     "data": {
      "image/png": "[encoded data removed]",
      "text/plain": [
       "<Figure size 432x288 with 1 Axes>"
      ]
     },
     "metadata": {
      "needs_background": "light"
     },
     "output_type": "display_data"
    }
   ],
   "source": [
    "plt.hist(cancer_df['age'], bins = 111, color = 'orange', edgecolor = 'white')\n",
    "plt.title('Histogram of Death Counts by Cancer by Age')\n",
    "plt.xlabel('Age')\n",
    "plt.xticks([0, 10, 20, 30, 40, 50, 60, 70, 80, 90, 100, 110])\n",
    "plt.ylabel('Death Counts')\n",
    "plt.show()"
   ]
  },
  {
   "cell_type": "markdown",
   "metadata": {},
   "source": [
    "***\n",
    "When shown data or an ML model, humans tend to have confirmation bias, meaning that they tend to believe that whatever the data or model says is what they really thought all along. Ever broke up with a significant other and your friends tell you “I told you so”? This is confirmation bias. With Bayesian reasoning, we can take into account a viewer’s prior reasonable guess before they see data. This is a good technique to help users reflect on how the data might conflict with “what they thought all along”. "
   ]
  },
  {
   "cell_type": "markdown",
   "metadata": {},
   "source": [
    "<h2>C. Relationship between age and death by Motor Vehicle Accident</h2>\n",
    "<p>Write down what you believe (before looking at the data. Just guess!) is the relationship between age and death by Motor Vehicle Accident. Do you expect the risk of death by car accident to be the same across all ages or higher in certain age ranges? Why? \t\t[2 points]</p>\n",
    "<p></p>\n",
    "<h3>Answer: I expect the risk of death by Motor Vehicle Accidents to be different across age ranges. I think that it will be the highest in the age range of 18-25 years since most cases of drunk driving are reported in that age group, drunk driving being the highest cause of motor Vehicle Accidents.</h3>\n",
    "<hr>"
   ]
  },
  {
   "cell_type": "markdown",
   "metadata": {},
   "source": [
    "<h2>D. Relationship between age and death by Drug Use</h2>\n",
    "<p>Write down what you believe (before looking at the data. Just guess!) is the relationship between age and death by Drug Use. Do you expect the risk of death by drug use to be the same across all ages or higher in certain age ranges? Why? [2 points]</p>\n",
    "<h3>Answer: </h3>\n",
    "<p>The risk of death use is definitely different across age ranges, perhaps highest for teens and veterans. The risks of death by drug use could be through consuming extra pills than prescribed, opioid addiction, etc. For teens it could be for pleasure, for veterans it could be to alleviate pain, but making a histogram would be the best way to check. </p>\n",
    "<hr color='black'>"
   ]
  },
  {
   "cell_type": "markdown",
   "metadata": {},
   "source": [
    "<h2>E1. Histogram of death by Motor Vehicle Accident by Age</h2>\n",
    "<p>Create a histogram of death by Motor Vehicle Accident by age. Create a histogram of death by Drug Use by age. [5 points]</p>"
   ]
  },
  {
   "cell_type": "code",
   "execution_count": 118,
   "metadata": {},
   "outputs": [],
   "source": [
    "value_list = ['Motor Vehicle Accident']\n",
    "mva_df = data[data.group.isin(value_list)]"
   ]
  },
  {
   "cell_type": "code",
   "execution_count": 149,
   "metadata": {},
   "outputs": [
    {
     "data": {
      "image/png": "[encoded data removed]",
      "text/plain": [
       "<Figure size 432x288 with 1 Axes>"
      ]
     },
     "metadata": {
      "needs_background": "light"
     },
     "output_type": "display_data"
    }
   ],
   "source": [
    "plt.hist(mva_df['age'], bins = 25, color = 'orange', edgecolor = 'white')\n",
    "plt.title('Histogram of Death Counts by Motor Vehicle Accidents by Age')\n",
    "plt.xlabel('Age')\n",
    "plt.xticks([0, 10, 20, 30, 40, 50, 60, 70, 80, 90, 100, 110])\n",
    "plt.ylabel('Death Counts')\n",
    "plt.show()"
   ]
  },
  {
   "cell_type": "code",
   "execution_count": 120,
   "metadata": {},
   "outputs": [
    {
     "name": "stdout",
     "output_type": "stream",
     "text": [
      "[ 13   7   9  19  92 127 123 102  64  58  51  68  55  86  75  63  48  40\n",
      "  21  31  21  20  24  17   5]\n"
     ]
    }
   ],
   "source": [
    "counts, bin_edges = np.histogram(mva_df['age'], bins = 25)\n",
    "print(counts)"
   ]
  },
  {
   "cell_type": "code",
   "execution_count": 121,
   "metadata": {},
   "outputs": [
    {
     "name": "stdout",
     "output_type": "stream",
     "text": [
      "[ 0.    3.92  7.84 11.76 15.68 19.6  23.52 27.44 31.36 35.28 39.2  43.12\n",
      " 47.04 50.96 54.88 58.8  62.72 66.64 70.56 74.48 78.4  82.32 86.24 90.16\n",
      " 94.08 98.  ]\n"
     ]
    }
   ],
   "source": [
    "print(bin_edges)"
   ]
  },
  {
   "cell_type": "markdown",
   "metadata": {},
   "source": [
    "<h3>Inference: Highest number of death counts by Motor Vehicle Accidents are in the age range 19.6 - 23.52 years, spanning 123 deaths out of total reported 1239 deaths.</h3>"
   ]
  },
  {
   "cell_type": "markdown",
   "metadata": {},
   "source": [
    "<h2>E2. Histogram of death by Drug Use by Age</h2>"
   ]
  },
  {
   "cell_type": "code",
   "execution_count": 122,
   "metadata": {},
   "outputs": [],
   "source": [
    "value_list = ['Drug Use']\n",
    "druguse_df = data[data.group.isin(value_list)]"
   ]
  },
  {
   "cell_type": "code",
   "execution_count": 148,
   "metadata": {},
   "outputs": [
    {
     "data": {
      "image/png": "[encoded data removed]",
      "text/plain": [
       "<Figure size 432x288 with 1 Axes>"
      ]
     },
     "metadata": {
      "needs_background": "light"
     },
     "output_type": "display_data"
    }
   ],
   "source": [
    "plt.hist(druguse_df['age'], bins = 25, color = 'orange', edgecolor = 'white')\n",
    "plt.title('Histogram of Death Counts by Drug Use by Age')\n",
    "plt.xlabel('Age')\n",
    "plt.xticks([0, 10, 20, 30, 40, 50, 60, 70, 80, 90, 100, 110])\n",
    "plt.ylabel('Death Counts')\n",
    "plt.show()"
   ]
  },
  {
   "cell_type": "code",
   "execution_count": 124,
   "metadata": {},
   "outputs": [
    {
     "name": "stdout",
     "output_type": "stream",
     "text": [
      "[  1   0   0   6  60 170 220 179 252 207 210 310 373 392 281 288 212  79\n",
      "  67  47  24  19  14  15   3]\n"
     ]
    }
   ],
   "source": [
    "counts, bin_edges = np.histogram(druguse_df['age'], bins = 25)\n",
    "print(counts)"
   ]
  },
  {
   "cell_type": "code",
   "execution_count": 125,
   "metadata": {},
   "outputs": [
    {
     "name": "stdout",
     "output_type": "stream",
     "text": [
      "[ 3.    6.72 10.44 14.16 17.88 21.6  25.32 29.04 32.76 36.48 40.2  43.92\n",
      " 47.64 51.36 55.08 58.8  62.52 66.24 69.96 73.68 77.4  81.12 84.84 88.56\n",
      " 92.28 96.  ]\n"
     ]
    }
   ],
   "source": [
    "print(bin_edges)"
   ]
  },
  {
   "cell_type": "markdown",
   "metadata": {},
   "source": [
    "<h3>Inference: Highest number of death counts by Drug Use are in the age range of 51.36-55.08 years, spanning 392 deaths out of thre reported 3429 total deaths.</h3>\n",
    "<hr>"
   ]
  },
  {
   "cell_type": "markdown",
   "metadata": {},
   "source": [
    "<h2>F. Assumption v/s Calculation</h2>\n",
    "<p>Compare your prior guess in C and D to the histograms in E. What did you learn from the histograms? Are there parts of your prior guess that were confirmed by the histograms? Are there parts of your prior guess that were wrong or different than you expected?<p>\n",
    "<h3>Confirmed: </h3>\n",
    "<p>I had anticipated that the death by Motor Vehicle Accidents would be the highest for the age range of 18-25 years and indeed they were the highest for the the age range of 19.6 - 27.44 years, which is quite close the anticipated range.</p>\n",
    "<h3>Contradictory: </h3>\n",
    "<p>My anticipation for Highest number of deaths by Drug Use was for teens and veterans. However, plotting the histogram showed that the highest number of death counts by drug use is for the age range 47.64 - 55.08 years, and not teenagers. The calculated age range of veterans somewhat matches the anticipated age range of veterans i.e. 45-64 years according to <a href = \"https://www.va.gov/VETDATA/docs/SurveysAndStudies/VETPOP.pdf\"> VA.gov</a></p>\n",
    "<hr>"
   ]
  },
  {
   "cell_type": "markdown",
   "metadata": {},
   "source": [
    "<h2>G: Different Causes of Death</h2>\n",
    "<p>When users see different possibilities separately in a data or ML system, there’s a bias towards thinking all possibilities are equally likely, when really some options are more or less probable in real life. E.g., While a headache could be caused by fall allergies or by brain cancer, the likelihood of fall allergies is far higher in real life than brain cancer.</p>\n",
    "<p>Create a visualization of your choice, where you overlay 4 different causes of death (your pick) by age the same plot. Design this visualization however you wish. Justify your design by writing a few sentences about how your visualization will help users compare the 4 different death risks by age. Talk about encoding choices such as: plot type, use of size, color, and axes labels. [20 points]</p>\n",
    "\n",
    "<p>Useful resource reference:\n",
    "<a href = \"https://www.machinelearningplus.com/plots/matplotlib-histogram-python-examples/\">https://www.machinelearningplus.com/plots/matplotlib-histogram-python-examples/ </a></p>"
   ]
  },
  {
   "cell_type": "code",
   "execution_count": 128,
   "metadata": {},
   "outputs": [],
   "source": [
    "value_list = ['Heart Disease']\n",
    "heart_df = data[data.group.isin(value_list)]"
   ]
  },
  {
   "cell_type": "code",
   "execution_count": 129,
   "metadata": {},
   "outputs": [],
   "source": [
    "value_list = ['Cancer']\n",
    "cancer_df = data[data.group.isin(value_list)]"
   ]
  },
  {
   "cell_type": "code",
   "execution_count": 130,
   "metadata": {},
   "outputs": [],
   "source": [
    "value_list = ['Diseases of the nervous system']\n",
    "nervous_df = data[data.group.isin(value_list)]"
   ]
  },
  {
   "cell_type": "code",
   "execution_count": 131,
   "metadata": {},
   "outputs": [],
   "source": [
    "value_list = ['Asthma']\n",
    "asthma_df = data[data.group.isin(value_list)]"
   ]
  },
  {
   "cell_type": "code",
   "execution_count": 214,
   "metadata": {},
   "outputs": [
    {
     "data": {
      "image/png": "[encoded data removed]",
      "text/plain": [
       "<Figure size 800x560 with 1 Axes>"
      ]
     },
     "metadata": {
      "needs_background": "light"
     },
     "output_type": "display_data"
    }
   ],
   "source": [
    "x1 = heart_df['age']\n",
    "x2 = cancer_df['age']\n",
    "x3 = nervous_df['age']\n",
    "x4 = asthma_df['age']\n",
    "\n",
    "kwargs = dict(alpha=0.7, bins=25, edgecolor = 'white')\n",
    "\n",
    "plt.figure(figsize=(10,7), dpi= 80)\n",
    "plt.hist(x1, **kwargs, color='green', label='Heart Disease')\n",
    "plt.hist(x2, **kwargs, color='blue', label='Cancer')\n",
    "plt.hist(x3, **kwargs, color='cyan', label='Diseases of the nervous system')\n",
    "plt.hist(x4, **kwargs, color='yellow', label='Asthma')\n",
    "plt.gca().set(title='Frequency Histogram of Top 4 Causes of Death by Age', ylabel='Frequency of death', xlabel = \"Age\")\n",
    "plt.xticks([0, 10, 20, 30, 40, 50, 60, 70, 80, 90, 100, 110])\n",
    "plt.legend();"
   ]
  },
  {
   "cell_type": "markdown",
   "metadata": {},
   "source": [
    "### How this visualization help users compare the 4 different death causes by Age:\n",
    "* #### The plot type chosen is Overlayed Histograms which can tell user about most prevalent age ranges for death.\n",
    "* #### The colors of the histograms are different to distinctly tell the difference between the 4 causes of death, which are depicted to the user using a legend to establish a better visual connection.\n",
    "* #### Since the histograms are overlayed, the height of the bars gives a comparative measure of frequency of deaths by bins. For e.g. The number of deaths by diseases of the nervous system are pretty high for the age group 85-95 years, but the chances of dying by cancer or a heart disease are even higher, which can be inferred by looking at the height of the bar. \n",
    "* #### The axes labels show frequency of death on the y label and age on the x axis.\n",
    "***"
   ]
  },
  {
   "cell_type": "markdown",
   "metadata": {},
   "source": [
    "<h2>Appendix</h2>"
   ]
  },
  {
   "cell_type": "markdown",
   "metadata": {},
   "source": [
    "<h3>Count unique values of a column</h3>"
   ]
  },
  {
   "cell_type": "code",
   "execution_count": 58,
   "metadata": {},
   "outputs": [
    {
     "data": {
      "text/plain": [
       "Heart Disease                        27079\n",
       "Cancer                               22894\n",
       "Diseases of the nervous system        7084\n",
       "Asthma                                6137\n",
       "Diabetes                              5615\n",
       "Mental or Behavioral                  5134\n",
       "Stroke                                4959\n",
       "Respiratory Condition                 4075\n",
       "Drug Use                              3429\n",
       "Liver Disease                         2836\n",
       "Kidney Condition                      1973\n",
       "Infection                             1770\n",
       "Fall                                  1279\n",
       "Motor Vehicle Accident                1239\n",
       "Accident                               698\n",
       "HIV/AIDS                               613\n",
       "Muscle/Bone Condition                  500\n",
       "Bladder Condition                      409\n",
       "Seizures                               327\n",
       "Congenital Anomalies                   309\n",
       "Birth Condition                        307\n",
       "Unkown cause                           305\n",
       "Other                                  249\n",
       "Skin Condition                         166\n",
       "Medical Care Error                     155\n",
       "Issues Breathing                       133\n",
       "Fire                                   116\n",
       "Natural Disaster                        73\n",
       "Pregnancy Related                       48\n",
       "Stomach or Bowel Issues                 26\n",
       "Male Reproductive Condition             23\n",
       "Female Reproductive Condition           16\n",
       "Military Situation                       7\n",
       "Issues with Movement                     5\n",
       "Eye Condition                            4\n",
       "Disturbance of Behavior or Senses        4\n",
       "Heat Exposure                            3\n",
       "Urinary Abdominal Issues                 1\n",
       "Name: group, dtype: int64"
      ]
     },
     "execution_count": 58,
     "metadata": {},
     "output_type": "execute_result"
    }
   ],
   "source": [
    "data[\"group\"].value_counts()"
   ]
  },
  {
   "cell_type": "markdown",
   "metadata": {},
   "source": [
    "<h3>Testing out value.counts()</h3>"
   ]
  },
  {
   "cell_type": "code",
   "execution_count": 77,
   "metadata": {},
   "outputs": [
    {
     "data": {
      "text/plain": [
       "87     3191\n",
       "88     3040\n",
       "85     2986\n",
       "89     2947\n",
       "90     2940\n",
       "86     2919\n",
       "84     2825\n",
       "91     2791\n",
       "83     2757\n",
       "82     2727\n",
       "92     2511\n",
       "81     2462\n",
       "80     2451\n",
       "93     2267\n",
       "79     2254\n",
       "77     2186\n",
       "78     2182\n",
       "76     2053\n",
       "72     2042\n",
       "75     2023\n",
       "94     2017\n",
       "73     1910\n",
       "71     1872\n",
       "74     1871\n",
       "68     1864\n",
       "67     1733\n",
       "95     1708\n",
       "66     1698\n",
       "70     1671\n",
       "69     1632\n",
       "       ... \n",
       "103      99\n",
       "21       86\n",
       "19       76\n",
       "20       72\n",
       "104      70\n",
       "18       51\n",
       "17       43\n",
       "1        37\n",
       "105      34\n",
       "16       30\n",
       "106      26\n",
       "14       25\n",
       "2        23\n",
       "3        22\n",
       "15       22\n",
       "13       21\n",
       "8        16\n",
       "107      16\n",
       "5        15\n",
       "4        15\n",
       "6        13\n",
       "11       11\n",
       "12       11\n",
       "7         9\n",
       "9         9\n",
       "109       8\n",
       "10        7\n",
       "108       5\n",
       "110       2\n",
       "111       1\n",
       "Name: age, Length: 112, dtype: int64"
      ]
     },
     "execution_count": 77,
     "metadata": {},
     "output_type": "execute_result"
    }
   ],
   "source": [
    "data['age'].value_counts()"
   ]
  },
  {
   "cell_type": "markdown",
   "metadata": {},
   "source": [
    "<h3>Testing out deleting last value from an array</h3>"
   ]
  },
  {
   "cell_type": "code",
   "execution_count": 96,
   "metadata": {},
   "outputs": [
    {
     "name": "stdout",
     "output_type": "stream",
     "text": [
      "[  0.    3.7   7.4  11.1  14.8  18.5  22.2  25.9  29.6  33.3  37.   40.7\n",
      "  44.4  48.1  51.8  55.5  59.2  62.9  66.6  70.3  74.   77.7  81.4  85.1\n",
      "  88.8  92.5  96.2  99.9 103.6 107.3]\n"
     ]
    }
   ],
   "source": [
    "bin_edges = np.delete(bin_edges, -1)\n",
    "print(bin_edges)"
   ]
  },
  {
   "cell_type": "markdown",
   "metadata": {},
   "source": [
    "<h3>Failed concatenation attempt</h3>"
   ]
  },
  {
   "cell_type": "code",
   "execution_count": 98,
   "metadata": {},
   "outputs": [
    {
     "data": {
      "text/plain": [
       "array([6.4900e+02, 5.2000e+01, 4.3000e+01, 5.7000e+01, 1.4600e+02,\n",
       "       3.3900e+02, 3.4600e+02, 5.2600e+02, 6.1700e+02, 5.2100e+02,\n",
       "       7.9100e+02, 1.0760e+03, 1.6280e+03, 1.9290e+03, 3.5240e+03,\n",
       "       4.7200e+03, 4.2050e+03, 6.4090e+03, 6.9000e+03, 5.8240e+03,\n",
       "       8.1330e+03, 9.3490e+03, 1.1295e+04, 9.1500e+03, 1.1189e+04,\n",
       "       7.2060e+03, 2.2560e+03, 9.5800e+02, 1.4600e+02, 1.6000e+01,\n",
       "       0.0000e+00, 3.7000e+00, 7.4000e+00, 1.1100e+01, 1.4800e+01,\n",
       "       1.8500e+01, 2.2200e+01, 2.5900e+01, 2.9600e+01, 3.3300e+01,\n",
       "       3.7000e+01, 4.0700e+01, 4.4400e+01, 4.8100e+01, 5.1800e+01,\n",
       "       5.5500e+01, 5.9200e+01, 6.2900e+01, 6.6600e+01, 7.0300e+01,\n",
       "       7.4000e+01, 7.7700e+01, 8.1400e+01, 8.5100e+01, 8.8800e+01,\n",
       "       9.2500e+01, 9.6200e+01, 9.9900e+01, 1.0360e+02, 1.0730e+02])"
      ]
     },
     "execution_count": 98,
     "metadata": {},
     "output_type": "execute_result"
    }
   ],
   "source": [
    "np.concatenate((counts, bin_edges))"
   ]
  },
  {
   "cell_type": "markdown",
   "metadata": {},
   "source": [
    "<h3>Something went wrong with the seaborn frequency polygon</h3>"
   ]
  },
  {
   "cell_type": "code",
   "execution_count": 185,
   "metadata": {},
   "outputs": [
    {
     "data": {
      "image/png": "[encoded data removed]",
      "text/plain": [
       "<Figure size 800x560 with 1 Axes>"
      ]
     },
     "metadata": {
      "needs_background": "light"
     },
     "output_type": "display_data"
    }
   ],
   "source": [
    "import seaborn as sns\n",
    "fig = plt.figure(figsize=(10,7), dpi= 80)\n",
    "sns.distplot(x1, color='green', label='Heart Disease')\n",
    "sns.distplot(x2, color='blue', label='Cancer')\n",
    "sns.distplot(x3, color='cyan', label='Diseases of the nervous system')\n",
    "sns.distplot(x4, color='yellow', label='Asthma')\n",
    "# plt.xticks([0, 10, 20, 30, 40, 50, 60, 70, 80, 90, 100, 110])\n",
    "plt.gca().set(title='Frequency Histogram of Top 4 Causes of Death by Age', ylabel='Frequency', xlabel = \"Age\")\n",
    "fig.legend(loc = 'upper left')\n",
    "plt.show()"
   ]
  },
  {
   "cell_type": "code",
   "execution_count": 274,
   "metadata": {},
   "outputs": [
    {
     "ename": "ValueError",
     "evalue": "cannot find widget or abbreviation for argument: 'ageSlider'",
     "output_type": "error",
     "traceback": [
      "\u001b[0;31m---------------------------------------------------------------------------\u001b[0m",
      "\u001b[0;31mValueError\u001b[0m                                Traceback (most recent call last)",
      "\u001b[0;32m<ipython-input-274-ea6d5bffc2c5>\u001b[0m in \u001b[0;36m<module>\u001b[0;34m\u001b[0m\n\u001b[1;32m      5\u001b[0m \u001b[0mplt\u001b[0m\u001b[0;34m.\u001b[0m\u001b[0mxticks\u001b[0m\u001b[0;34m(\u001b[0m\u001b[0;34m[\u001b[0m\u001b[0;36m0\u001b[0m\u001b[0;34m,\u001b[0m \u001b[0;36m10\u001b[0m\u001b[0;34m,\u001b[0m \u001b[0;36m20\u001b[0m\u001b[0;34m,\u001b[0m \u001b[0;36m30\u001b[0m\u001b[0;34m,\u001b[0m \u001b[0;36m40\u001b[0m\u001b[0;34m,\u001b[0m \u001b[0;36m50\u001b[0m\u001b[0;34m,\u001b[0m \u001b[0;36m60\u001b[0m\u001b[0;34m,\u001b[0m \u001b[0;36m70\u001b[0m\u001b[0;34m,\u001b[0m \u001b[0;36m80\u001b[0m\u001b[0;34m,\u001b[0m \u001b[0;36m90\u001b[0m\u001b[0;34m,\u001b[0m \u001b[0;36m100\u001b[0m\u001b[0;34m,\u001b[0m \u001b[0;36m110\u001b[0m\u001b[0;34m]\u001b[0m\u001b[0;34m)\u001b[0m\u001b[0;34m\u001b[0m\u001b[0;34m\u001b[0m\u001b[0m\n\u001b[1;32m      6\u001b[0m \u001b[0;34m\u001b[0m\u001b[0m\n\u001b[0;32m----> 7\u001b[0;31m \u001b[0;34m@\u001b[0m\u001b[0minteract\u001b[0m\u001b[0;34m\u001b[0m\u001b[0;34m\u001b[0m\u001b[0m\n\u001b[0m\u001b[1;32m      8\u001b[0m \u001b[0;32mdef\u001b[0m \u001b[0mupdate_plot\u001b[0m\u001b[0;34m(\u001b[0m\u001b[0mageSlider\u001b[0m\u001b[0;34m)\u001b[0m\u001b[0;34m:\u001b[0m\u001b[0;34m\u001b[0m\u001b[0;34m\u001b[0m\u001b[0m\n\u001b[1;32m      9\u001b[0m     \u001b[0;32mimport\u001b[0m \u001b[0mpdb\u001b[0m\u001b[0;34m\u001b[0m\u001b[0;34m\u001b[0m\u001b[0m\n",
      "\u001b[0;32m/anaconda3/lib/python3.7/site-packages/ipywidgets/widgets/interaction.py\u001b[0m in \u001b[0;36m__call__\u001b[0;34m(self, _InteractFactory__interact_f, **kwargs)\u001b[0m\n\u001b[1;32m    521\u001b[0m         \u001b[0;31m#    def f(*args, **kwargs):\u001b[0m\u001b[0;34m\u001b[0m\u001b[0;34m\u001b[0m\u001b[0;34m\u001b[0m\u001b[0m\n\u001b[1;32m    522\u001b[0m         \u001b[0;31m#        ...\u001b[0m\u001b[0;34m\u001b[0m\u001b[0;34m\u001b[0m\u001b[0;34m\u001b[0m\u001b[0m\n\u001b[0;32m--> 523\u001b[0;31m         \u001b[0mw\u001b[0m \u001b[0;34m=\u001b[0m \u001b[0mself\u001b[0m\u001b[0;34m.\u001b[0m\u001b[0mwidget\u001b[0m\u001b[0;34m(\u001b[0m\u001b[0mf\u001b[0m\u001b[0;34m)\u001b[0m\u001b[0;34m\u001b[0m\u001b[0;34m\u001b[0m\u001b[0m\n\u001b[0m\u001b[1;32m    524\u001b[0m         \u001b[0;32mtry\u001b[0m\u001b[0;34m:\u001b[0m\u001b[0;34m\u001b[0m\u001b[0;34m\u001b[0m\u001b[0m\n\u001b[1;32m    525\u001b[0m             \u001b[0mf\u001b[0m\u001b[0;34m.\u001b[0m\u001b[0mwidget\u001b[0m \u001b[0;34m=\u001b[0m \u001b[0mw\u001b[0m\u001b[0;34m\u001b[0m\u001b[0;34m\u001b[0m\u001b[0m\n",
      "\u001b[0;32m/anaconda3/lib/python3.7/site-packages/ipywidgets/widgets/interaction.py\u001b[0m in \u001b[0;36mwidget\u001b[0;34m(self, f)\u001b[0m\n\u001b[1;32m    437\u001b[0m             \u001b[0mThe\u001b[0m \u001b[0mfunction\u001b[0m \u001b[0mto\u001b[0m \u001b[0mwhich\u001b[0m \u001b[0mthe\u001b[0m \u001b[0minteractive\u001b[0m \u001b[0mwidgets\u001b[0m \u001b[0mare\u001b[0m \u001b[0mtied\u001b[0m\u001b[0;34m.\u001b[0m\u001b[0;34m\u001b[0m\u001b[0;34m\u001b[0m\u001b[0m\n\u001b[1;32m    438\u001b[0m         \"\"\"\n\u001b[0;32m--> 439\u001b[0;31m         \u001b[0;32mreturn\u001b[0m \u001b[0mself\u001b[0m\u001b[0;34m.\u001b[0m\u001b[0mcls\u001b[0m\u001b[0;34m(\u001b[0m\u001b[0mf\u001b[0m\u001b[0;34m,\u001b[0m \u001b[0mself\u001b[0m\u001b[0;34m.\u001b[0m\u001b[0mopts\u001b[0m\u001b[0;34m,\u001b[0m \u001b[0;34m**\u001b[0m\u001b[0mself\u001b[0m\u001b[0;34m.\u001b[0m\u001b[0mkwargs\u001b[0m\u001b[0;34m)\u001b[0m\u001b[0;34m\u001b[0m\u001b[0;34m\u001b[0m\u001b[0m\n\u001b[0m\u001b[1;32m    440\u001b[0m \u001b[0;34m\u001b[0m\u001b[0m\n\u001b[1;32m    441\u001b[0m     \u001b[0;32mdef\u001b[0m \u001b[0m__call__\u001b[0m\u001b[0;34m(\u001b[0m\u001b[0mself\u001b[0m\u001b[0;34m,\u001b[0m \u001b[0m__interact_f\u001b[0m\u001b[0;34m=\u001b[0m\u001b[0;32mNone\u001b[0m\u001b[0;34m,\u001b[0m \u001b[0;34m**\u001b[0m\u001b[0mkwargs\u001b[0m\u001b[0;34m)\u001b[0m\u001b[0;34m:\u001b[0m\u001b[0;34m\u001b[0m\u001b[0;34m\u001b[0m\u001b[0m\n",
      "\u001b[0;32m/anaconda3/lib/python3.7/site-packages/ipywidgets/widgets/interaction.py\u001b[0m in \u001b[0;36m__init__\u001b[0;34m(self, _interactive__interact_f, _interactive__options, **kwargs)\u001b[0m\n\u001b[1;32m    181\u001b[0m         \u001b[0mself\u001b[0m\u001b[0;34m.\u001b[0m\u001b[0mauto_display\u001b[0m \u001b[0;34m=\u001b[0m \u001b[0m__options\u001b[0m\u001b[0;34m.\u001b[0m\u001b[0mget\u001b[0m\u001b[0;34m(\u001b[0m\u001b[0;34m\"auto_display\"\u001b[0m\u001b[0;34m,\u001b[0m \u001b[0;32mFalse\u001b[0m\u001b[0;34m)\u001b[0m\u001b[0;34m\u001b[0m\u001b[0;34m\u001b[0m\u001b[0m\n\u001b[1;32m    182\u001b[0m \u001b[0;34m\u001b[0m\u001b[0m\n\u001b[0;32m--> 183\u001b[0;31m         \u001b[0mnew_kwargs\u001b[0m \u001b[0;34m=\u001b[0m \u001b[0mself\u001b[0m\u001b[0;34m.\u001b[0m\u001b[0mfind_abbreviations\u001b[0m\u001b[0;34m(\u001b[0m\u001b[0mkwargs\u001b[0m\u001b[0;34m)\u001b[0m\u001b[0;34m\u001b[0m\u001b[0;34m\u001b[0m\u001b[0m\n\u001b[0m\u001b[1;32m    184\u001b[0m         \u001b[0;31m# Before we proceed, let's make sure that the user has passed a set of args+kwargs\u001b[0m\u001b[0;34m\u001b[0m\u001b[0;34m\u001b[0m\u001b[0;34m\u001b[0m\u001b[0m\n\u001b[1;32m    185\u001b[0m         \u001b[0;31m# that will lead to a valid call of the function. This protects against unspecified\u001b[0m\u001b[0;34m\u001b[0m\u001b[0;34m\u001b[0m\u001b[0;34m\u001b[0m\u001b[0m\n",
      "\u001b[0;32m/anaconda3/lib/python3.7/site-packages/ipywidgets/widgets/interaction.py\u001b[0m in \u001b[0;36mfind_abbreviations\u001b[0;34m(self, kwargs)\u001b[0m\n\u001b[1;32m    281\u001b[0m             \u001b[0;32mfor\u001b[0m \u001b[0mname\u001b[0m\u001b[0;34m,\u001b[0m \u001b[0mvalue\u001b[0m\u001b[0;34m,\u001b[0m \u001b[0mdefault\u001b[0m \u001b[0;32min\u001b[0m \u001b[0m_yield_abbreviations_for_parameter\u001b[0m\u001b[0;34m(\u001b[0m\u001b[0mparam\u001b[0m\u001b[0;34m,\u001b[0m \u001b[0mkwargs\u001b[0m\u001b[0;34m)\u001b[0m\u001b[0;34m:\u001b[0m\u001b[0;34m\u001b[0m\u001b[0;34m\u001b[0m\u001b[0m\n\u001b[1;32m    282\u001b[0m                 \u001b[0;32mif\u001b[0m \u001b[0mvalue\u001b[0m \u001b[0;32mis\u001b[0m \u001b[0mempty\u001b[0m\u001b[0;34m:\u001b[0m\u001b[0;34m\u001b[0m\u001b[0;34m\u001b[0m\u001b[0m\n\u001b[0;32m--> 283\u001b[0;31m                     \u001b[0;32mraise\u001b[0m \u001b[0mValueError\u001b[0m\u001b[0;34m(\u001b[0m\u001b[0;34m'cannot find widget or abbreviation for argument: {!r}'\u001b[0m\u001b[0;34m.\u001b[0m\u001b[0mformat\u001b[0m\u001b[0;34m(\u001b[0m\u001b[0mname\u001b[0m\u001b[0;34m)\u001b[0m\u001b[0;34m)\u001b[0m\u001b[0;34m\u001b[0m\u001b[0;34m\u001b[0m\u001b[0m\n\u001b[0m\u001b[1;32m    284\u001b[0m                 \u001b[0mnew_kwargs\u001b[0m\u001b[0;34m.\u001b[0m\u001b[0mappend\u001b[0m\u001b[0;34m(\u001b[0m\u001b[0;34m(\u001b[0m\u001b[0mname\u001b[0m\u001b[0;34m,\u001b[0m \u001b[0mvalue\u001b[0m\u001b[0;34m,\u001b[0m \u001b[0mdefault\u001b[0m\u001b[0;34m)\u001b[0m\u001b[0;34m)\u001b[0m\u001b[0;34m\u001b[0m\u001b[0;34m\u001b[0m\u001b[0m\n\u001b[1;32m    285\u001b[0m         \u001b[0;32mreturn\u001b[0m \u001b[0mnew_kwargs\u001b[0m\u001b[0;34m\u001b[0m\u001b[0;34m\u001b[0m\u001b[0m\n",
      "\u001b[0;31mValueError\u001b[0m: cannot find widget or abbreviation for argument: 'ageSlider'"
     ]
    },
    {
     "data": {
      "image/png": "[encoded data removed]",
      "text/plain": [
       "<Figure size 800x560 with 1 Axes>"
      ]
     },
     "metadata": {
      "needs_background": "light"
     },
     "output_type": "display_data"
    }
   ],
   "source": [
    "kwargs = dict(alpha=0.7, bins=25, edgecolor = 'white')\n",
    "\n",
    "plt.figure(figsize=(10,7), dpi= 80)\n",
    "plt.gca().set(title='Frequency Histogram of Top 4 Causes of Death by Age', ylabel='Frequency of death', xlabel = \"Age\")\n",
    "plt.xticks([0, 10, 20, 30, 40, 50, 60, 70, 80, 90, 100, 110])\n",
    "\n",
    "@interact\n",
    "def update_plot(ageSlider):\n",
    "    import pdb\n",
    "    pdb.set_trace()\n",
    "    x1 = heart_df.loc[heart_df['age'] == ageSlider]\n",
    "    x2 = cancer_df.loc[cancer_df['age'] == ageSlider]\n",
    "    x3 = nervous_df.loc[nervous_df['age'] == ageSlider]\n",
    "    x4 = asthma_df.loc[asthma_df['age'] == ageSlider]\n",
    "    plt.hist(x1, **kwargs, color='green', label='Heart Disease')\n",
    "    plt.hist(x2, **kwargs, color='blue', label='Cancer')\n",
    "    plt.hist(x3, **kwargs, color='cyan', label='Diseases of the nervous system')\n",
    "    plt.hist(x4, **kwargs, color='yellow', label='Asthma')\n",
    "    plt.legend();\n",
    "    \n",
    "\n",
    "    \n",
    "ageSlider = IntSlider(min=0, max=111, value=45, description='Age Slider', continuous_update=True)\n",
    "ageSlider.style.handle_color = 'lightgreen'\n",
    "display(ageSlider)\n",
    "ageSlider.observe(update_plot, names='value')"
   ]
  },
  {
   "cell_type": "code",
   "execution_count": 273,
   "metadata": {},
   "outputs": [
    {
     "data": {
      "application/vnd.jupyter.widget-view+json": {
       "model_id": "783e98f6563e4107822e9cdbc2d5b274",
       "version_major": 2,
       "version_minor": 0
      },
      "text/plain": [
       "interactive(children=(Text(value='age', description='column'), IntSlider(value=55, description='x', max=111), …"
      ]
     },
     "metadata": {},
     "output_type": "display_data"
    }
   ],
   "source": [
    "@interact\n",
    "def show_age_more_than(column='age', x=(0, 111, 1)):\n",
    "    return heart_df.loc[x1 < x]"
   ]
  },
  {
   "cell_type": "code",
   "execution_count": null,
   "metadata": {},
   "outputs": [],
   "source": []
  }
 ],
 "metadata": {
  "kernelspec": {
   "display_name": "Python 3",
   "language": "python",
   "name": "python3"
  },
  "language_info": {
   "codemirror_mode": {
    "name": "ipython",
    "version": 3
   },
   "file_extension": ".py",
   "mimetype": "text/x-python",
   "name": "python",
   "nbconvert_exporter": "python",
   "pygments_lexer": "ipython3",
   "version": "3.7.3"
  }
 },
 "nbformat": 4,
 "nbformat_minor": 2
}
